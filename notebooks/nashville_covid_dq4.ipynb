{
 "cells": [
  {
   "cell_type": "markdown",
   "metadata": {},
   "source": [
    "## Part 1:\n",
    "\n",
    "Gather the dataset of hubNashville requests from https://data.nashville.gov/Public-Services/hubNashville-311-Service-Requests/7qhx-rexh. For this project, you should look at requests with Request Type of \"COVID-19\" and Subrequest Type of \"COVID-19 Violations\". Explore this dataset, looking at when and where these violations occurred.\n",
    "\n"
   ]
  },
  {
   "cell_type": "code",
   "execution_count": 1,
   "metadata": {},
   "outputs": [],
   "source": [
    "import pandas as pd\n",
    "import numpy as np\n",
    "import requests\n",
    "import json\n",
    "import matplotlib.pyplot as plt\n",
    "import seaborn as sns"
   ]
  },
  {
   "cell_type": "code",
   "execution_count": 18,
   "metadata": {},
   "outputs": [],
   "source": [
    "#getting data from API, case_requests = COVID-19 and setting limit to 25k\n",
    "\n",
    "url = 'https://data.nashville.gov/resource/7qhx-rexh.json?case_request=COVID-19&$limit=25000'\n",
    "\n",
    "response = requests.get(url)"
   ]
  },
  {
   "cell_type": "code",
   "execution_count": 19,
   "metadata": {},
   "outputs": [],
   "source": [
    "#reading the json text to dataframe\n",
    "\n",
    "hubNashville = pd.read_json(response.text)"
   ]
  },
  {
   "cell_type": "code",
   "execution_count": 36,
   "metadata": {},
   "outputs": [],
   "source": [
    "#subsetting for case_requests and case_subrequest\n",
    "\n",
    "hubNashville = hubNashville[hubNashville['case_subrequest'] == 'COVID-19 Violations']"
   ]
  },
  {
   "cell_type": "code",
   "execution_count": 40,
   "metadata": {},
   "outputs": [
    {
     "name": "stdout",
     "output_type": "stream",
     "text": [
      "<class 'pandas.core.frame.DataFrame'>\n",
      "Int64Index: 11632 entries, 1 to 15920\n",
      "Data columns (total 19 columns):\n",
      " #   Column                     Non-Null Count  Dtype         \n",
      "---  ------                     --------------  -----         \n",
      " 0   case_number                11632 non-null  int64         \n",
      " 1   status                     11632 non-null  object        \n",
      " 2   case_request               11632 non-null  object        \n",
      " 3   case_subrequest            11632 non-null  object        \n",
      " 4   additional_subrequest      11623 non-null  object        \n",
      " 5   date_time_opened           11632 non-null  datetime64[ns]\n",
      " 6   date_time_closed           11611 non-null  datetime64[ns]\n",
      " 7   case_origin                11632 non-null  object        \n",
      " 8   state_issue                11632 non-null  object        \n",
      " 9   closed_when_created        11632 non-null  object        \n",
      " 10  incident_address           11356 non-null  object        \n",
      " 11  incident_city              10653 non-null  object        \n",
      " 12  incident_council_district  10686 non-null  float64       \n",
      " 13  incident_zip_code          10718 non-null  float64       \n",
      " 14  latitude                   11354 non-null  float64       \n",
      " 15  longitude                  11354 non-null  float64       \n",
      " 16  mapped_location            11354 non-null  object        \n",
      " 17  contact_type               46 non-null     object        \n",
      " 18  parent_case                1 non-null      float64       \n",
      "dtypes: datetime64[ns](2), float64(5), int64(1), object(11)\n",
      "memory usage: 2.1+ MB\n"
     ]
    }
   ],
   "source": [
    "hubNashville.info()"
   ]
  },
  {
   "cell_type": "code",
   "execution_count": 31,
   "metadata": {},
   "outputs": [],
   "source": [
    "#converting open and close to datetime\n",
    "\n",
    "hubNashville['date_time_opened'] = [pd.to_datetime(d) for d in hubNashville['date_time_opened']]\n",
    "hubNashville['date_time_closed'] = [pd.to_datetime(d) for d in hubNashville['date_time_closed']]"
   ]
  },
  {
   "cell_type": "code",
   "execution_count": 39,
   "metadata": {},
   "outputs": [
    {
     "data": {
      "text/html": [
       "<div>\n",
       "<style scoped>\n",
       "    .dataframe tbody tr th:only-of-type {\n",
       "        vertical-align: middle;\n",
       "    }\n",
       "\n",
       "    .dataframe tbody tr th {\n",
       "        vertical-align: top;\n",
       "    }\n",
       "\n",
       "    .dataframe thead th {\n",
       "        text-align: right;\n",
       "    }\n",
       "</style>\n",
       "<table border=\"1\" class=\"dataframe\">\n",
       "  <thead>\n",
       "    <tr style=\"text-align: right;\">\n",
       "      <th></th>\n",
       "      <th>case_number</th>\n",
       "      <th>status</th>\n",
       "      <th>case_request</th>\n",
       "      <th>case_subrequest</th>\n",
       "      <th>additional_subrequest</th>\n",
       "      <th>date_time_opened</th>\n",
       "      <th>date_time_closed</th>\n",
       "      <th>case_origin</th>\n",
       "      <th>state_issue</th>\n",
       "      <th>closed_when_created</th>\n",
       "      <th>incident_address</th>\n",
       "      <th>incident_city</th>\n",
       "      <th>incident_council_district</th>\n",
       "      <th>incident_zip_code</th>\n",
       "      <th>latitude</th>\n",
       "      <th>longitude</th>\n",
       "      <th>mapped_location</th>\n",
       "      <th>contact_type</th>\n",
       "      <th>parent_case</th>\n",
       "    </tr>\n",
       "  </thead>\n",
       "  <tbody>\n",
       "    <tr>\n",
       "      <th>7039</th>\n",
       "      <td>361889</td>\n",
       "      <td>Closed</td>\n",
       "      <td>COVID-19</td>\n",
       "      <td>COVID-19 Violations</td>\n",
       "      <td>COVID-19 Violations</td>\n",
       "      <td>2020-05-07 18:57:32</td>\n",
       "      <td>2020-05-08 17:08:50</td>\n",
       "      <td>Phone</td>\n",
       "      <td>False</td>\n",
       "      <td>False</td>\n",
       "      <td>1297 Antioch Pike</td>\n",
       "      <td>Nashville</td>\n",
       "      <td>NaN</td>\n",
       "      <td>37211.0</td>\n",
       "      <td>NaN</td>\n",
       "      <td>NaN</td>\n",
       "      <td>NaN</td>\n",
       "      <td>NaN</td>\n",
       "      <td>NaN</td>\n",
       "    </tr>\n",
       "  </tbody>\n",
       "</table>\n",
       "</div>"
      ],
      "text/plain": [
       "      case_number  status case_request      case_subrequest  \\\n",
       "7039       361889  Closed     COVID-19  COVID-19 Violations   \n",
       "\n",
       "     additional_subrequest    date_time_opened    date_time_closed  \\\n",
       "7039   COVID-19 Violations 2020-05-07 18:57:32 2020-05-08 17:08:50   \n",
       "\n",
       "     case_origin state_issue closed_when_created   incident_address  \\\n",
       "7039       Phone       False               False  1297 Antioch Pike   \n",
       "\n",
       "     incident_city  incident_council_district  incident_zip_code  latitude  \\\n",
       "7039     Nashville                        NaN            37211.0       NaN   \n",
       "\n",
       "      longitude mapped_location contact_type  parent_case  \n",
       "7039        NaN             NaN          NaN          NaN  "
      ]
     },
     "execution_count": 39,
     "metadata": {},
     "output_type": "execute_result"
    }
   ],
   "source": [
    "hubNashville.loc[hubNashville['incident_city'] == 'Nashville']"
   ]
  },
  {
   "cell_type": "code",
   "execution_count": 30,
   "metadata": {},
   "outputs": [
    {
     "data": {
      "image/png": "[encoded data removed]",
      "text/plain": [
       "<Figure size 432x288 with 1 Axes>"
      ]
     },
     "metadata": {
      "needs_background": "light"
     },
     "output_type": "display_data"
    }
   ],
   "source": [
    "hubNashville['incident_city'].value_counts().plot(kind='barh', \n",
    "                                                  title='Reported COVID-19 Violations by City (Middle TN)');"
   ]
  },
  {
   "cell_type": "markdown",
   "metadata": {},
   "source": [
    "Nashville leads the number of violations with 43"
   ]
  },
  {
   "cell_type": "code",
   "execution_count": null,
   "metadata": {},
   "outputs": [],
   "source": []
  }
 ],
 "metadata": {
  "kernelspec": {
   "display_name": "Python 3",
   "language": "python",
   "name": "python3"
  },
  "language_info": {
   "codemirror_mode": {
    "name": "ipython",
    "version": 3
   },
   "file_extension": ".py",
   "mimetype": "text/x-python",
   "name": "python",
   "nbconvert_exporter": "python",
   "pygments_lexer": "ipython3",
   "version": "3.8.3"
  }
 },
 "nbformat": 4,
 "nbformat_minor": 4
}
