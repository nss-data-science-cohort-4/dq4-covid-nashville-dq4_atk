{
 "cells": [
  {
   "cell_type": "markdown",
   "metadata": {},
   "source": [
    "## Part1: For this project, you should look at requests with Request Type of \"COVID-19\" and Subrequest Type of \"COVID-19 Violations\". "
   ]
  },
  {
   "cell_type": "code",
   "execution_count": 1,
   "metadata": {},
   "outputs": [],
   "source": [
    "import pandas as pd\n",
    "import numpy as np\n",
    "import matplotlib.pyplot as plt\n",
    "import seaborn as sns\n",
    "import json\n",
    "import requests\n",
    "\n",
    "%matplotlib inline"
   ]
  },
  {
   "cell_type": "code",
   "execution_count": 2,
   "metadata": {},
   "outputs": [],
   "source": [
    "# to see all columns\n",
    "pd.set_option('display.max_columns', None)"
   ]
  },
  {
   "cell_type": "markdown",
   "metadata": {},
   "source": [
    "### Using the csv file:"
   ]
  },
  {
   "cell_type": "code",
   "execution_count": null,
   "metadata": {},
   "outputs": [],
   "source": [
    "#hubNash = pd.read_csv(\"../data/hubNashville__311__Service_Requests.csv\")"
   ]
  },
  {
   "cell_type": "code",
   "execution_count": null,
   "metadata": {},
   "outputs": [],
   "source": [
    "#covid19 = hubNash[(hubNash[\"Request Type\"] == \"COVID-19\") & hubNash[\"Subrequest Type\"].str.contains(\"COVID-19 Violations\")]"
   ]
  },
  {
   "cell_type": "markdown",
   "metadata": {},
   "source": [
    "### Using Json files:"
   ]
  },
  {
   "cell_type": "code",
   "execution_count": 3,
   "metadata": {},
   "outputs": [],
   "source": [
    "#getting data from API, case_requests = COVID-19 and setting limit to 25k\n",
    "\n",
    "url = 'https://data.nashville.gov/resource/7qhx-rexh.json?case_request=COVID-19&$limit=25000'\n",
    "\n",
    "response = requests.get(url)"
   ]
  },
  {
   "cell_type": "code",
   "execution_count": 4,
   "metadata": {},
   "outputs": [],
   "source": [
    "#reading the json text to dataframe\n",
    "\n",
    "hubNashville = pd.read_json(response.text)"
   ]
  },
  {
   "cell_type": "code",
   "execution_count": 6,
   "metadata": {},
   "outputs": [],
   "source": [
    "#subsetting for case_request and case_subrequest\n",
    "\n",
    "covid19 = hubNashville[hubNashville[\"case_subrequest\"] == \"COVID-19 Violations\"]"
   ]
  },
  {
   "cell_type": "code",
   "execution_count": 7,
   "metadata": {},
   "outputs": [
    {
     "data": {
      "text/plain": [
       "(11632, 19)"
      ]
     },
     "execution_count": 7,
     "metadata": {},
     "output_type": "execute_result"
    }
   ],
   "source": [
    "covid19.shape"
   ]
  },
  {
   "cell_type": "code",
   "execution_count": 9,
   "metadata": {
    "scrolled": true
   },
   "outputs": [
    {
     "data": {
      "text/html": [
       "<div>\n",
       "<style scoped>\n",
       "    .dataframe tbody tr th:only-of-type {\n",
       "        vertical-align: middle;\n",
       "    }\n",
       "\n",
       "    .dataframe tbody tr th {\n",
       "        vertical-align: top;\n",
       "    }\n",
       "\n",
       "    .dataframe thead th {\n",
       "        text-align: right;\n",
       "    }\n",
       "</style>\n",
       "<table border=\"1\" class=\"dataframe\">\n",
       "  <thead>\n",
       "    <tr style=\"text-align: right;\">\n",
       "      <th></th>\n",
       "      <th>additional_subrequest</th>\n",
       "      <th>case_number</th>\n",
       "      <th>case_origin</th>\n",
       "      <th>case_request</th>\n",
       "      <th>case_subrequest</th>\n",
       "      <th>closed_when_created</th>\n",
       "      <th>contact_type</th>\n",
       "      <th>date_time_closed</th>\n",
       "      <th>date_time_opened</th>\n",
       "      <th>incident_address</th>\n",
       "      <th>incident_city</th>\n",
       "      <th>incident_council_district</th>\n",
       "      <th>incident_zip_code</th>\n",
       "      <th>latitude</th>\n",
       "      <th>longitude</th>\n",
       "      <th>mapped_location</th>\n",
       "      <th>parent_case</th>\n",
       "      <th>state_issue</th>\n",
       "      <th>status</th>\n",
       "    </tr>\n",
       "  </thead>\n",
       "  <tbody>\n",
       "    <tr>\n",
       "      <th>1</th>\n",
       "      <td>COVID-19 Violations</td>\n",
       "      <td>495545</td>\n",
       "      <td>hubNashville Community</td>\n",
       "      <td>COVID-19</td>\n",
       "      <td>COVID-19 Violations</td>\n",
       "      <td>False</td>\n",
       "      <td>NaN</td>\n",
       "      <td>NaN</td>\n",
       "      <td>2020-11-04T21:27:30.000</td>\n",
       "      <td>2612 Lebanon Pike</td>\n",
       "      <td>NASHVILLE</td>\n",
       "      <td>15.0</td>\n",
       "      <td>37214.0</td>\n",
       "      <td>36.170223</td>\n",
       "      <td>-86.673428</td>\n",
       "      <td>{'latitude': '36.1702228', 'longitude': '-86.6...</td>\n",
       "      <td>NaN</td>\n",
       "      <td>False</td>\n",
       "      <td>New</td>\n",
       "    </tr>\n",
       "    <tr>\n",
       "      <th>2</th>\n",
       "      <td>COVID-19 Violations</td>\n",
       "      <td>495548</td>\n",
       "      <td>hubNashville Community</td>\n",
       "      <td>COVID-19</td>\n",
       "      <td>COVID-19 Violations</td>\n",
       "      <td>False</td>\n",
       "      <td>NaN</td>\n",
       "      <td>NaN</td>\n",
       "      <td>2020-11-04T21:31:04.000</td>\n",
       "      <td>130 W Trinity Ln</td>\n",
       "      <td>NASHVILLE</td>\n",
       "      <td>5.0</td>\n",
       "      <td>37207.0</td>\n",
       "      <td>36.205655</td>\n",
       "      <td>-86.772439</td>\n",
       "      <td>{'latitude': '36.2056553', 'longitude': '-86.7...</td>\n",
       "      <td>NaN</td>\n",
       "      <td>False</td>\n",
       "      <td>New</td>\n",
       "    </tr>\n",
       "    <tr>\n",
       "      <th>3</th>\n",
       "      <td>COVID-19 Violations</td>\n",
       "      <td>494661</td>\n",
       "      <td>hubNashville Community</td>\n",
       "      <td>COVID-19</td>\n",
       "      <td>COVID-19 Violations</td>\n",
       "      <td>False</td>\n",
       "      <td>NaN</td>\n",
       "      <td>2020-11-04T15:00:35.000</td>\n",
       "      <td>2020-11-03T20:19:45.000</td>\n",
       "      <td>3441 Lebanon Pike</td>\n",
       "      <td>HERMITAGE</td>\n",
       "      <td>14.0</td>\n",
       "      <td>37076.0</td>\n",
       "      <td>36.189819</td>\n",
       "      <td>-86.624601</td>\n",
       "      <td>{'latitude': '36.18981867780618', 'longitude':...</td>\n",
       "      <td>NaN</td>\n",
       "      <td>False</td>\n",
       "      <td>Closed</td>\n",
       "    </tr>\n",
       "    <tr>\n",
       "      <th>5</th>\n",
       "      <td>COVID-19 Violations</td>\n",
       "      <td>494225</td>\n",
       "      <td>hubNashville Community</td>\n",
       "      <td>COVID-19</td>\n",
       "      <td>COVID-19 Violations</td>\n",
       "      <td>False</td>\n",
       "      <td>NaN</td>\n",
       "      <td>2020-11-04T14:51:07.000</td>\n",
       "      <td>2020-11-03T15:32:21.000</td>\n",
       "      <td>440 McMurray Dr</td>\n",
       "      <td>NASHVILLE</td>\n",
       "      <td>27.0</td>\n",
       "      <td>37211.0</td>\n",
       "      <td>36.061900</td>\n",
       "      <td>-86.718059</td>\n",
       "      <td>{'latitude': '36.0618999', 'longitude': '-86.7...</td>\n",
       "      <td>NaN</td>\n",
       "      <td>False</td>\n",
       "      <td>Closed</td>\n",
       "    </tr>\n",
       "    <tr>\n",
       "      <th>7</th>\n",
       "      <td>COVID-19 Violations</td>\n",
       "      <td>495269</td>\n",
       "      <td>hubNashville Community</td>\n",
       "      <td>COVID-19</td>\n",
       "      <td>COVID-19 Violations</td>\n",
       "      <td>False</td>\n",
       "      <td>NaN</td>\n",
       "      <td>NaN</td>\n",
       "      <td>2020-11-04T17:48:22.000</td>\n",
       "      <td>2381 Murfreesboro Pike</td>\n",
       "      <td>NASHVILLE</td>\n",
       "      <td>28.0</td>\n",
       "      <td>37217.0</td>\n",
       "      <td>36.082906</td>\n",
       "      <td>-86.648202</td>\n",
       "      <td>{'latitude': '36.082905861572854', 'longitude'...</td>\n",
       "      <td>NaN</td>\n",
       "      <td>False</td>\n",
       "      <td>New</td>\n",
       "    </tr>\n",
       "  </tbody>\n",
       "</table>\n",
       "</div>"
      ],
      "text/plain": [
       "  additional_subrequest  case_number             case_origin case_request  \\\n",
       "1   COVID-19 Violations       495545  hubNashville Community     COVID-19   \n",
       "2   COVID-19 Violations       495548  hubNashville Community     COVID-19   \n",
       "3   COVID-19 Violations       494661  hubNashville Community     COVID-19   \n",
       "5   COVID-19 Violations       494225  hubNashville Community     COVID-19   \n",
       "7   COVID-19 Violations       495269  hubNashville Community     COVID-19   \n",
       "\n",
       "       case_subrequest closed_when_created contact_type  \\\n",
       "1  COVID-19 Violations               False          NaN   \n",
       "2  COVID-19 Violations               False          NaN   \n",
       "3  COVID-19 Violations               False          NaN   \n",
       "5  COVID-19 Violations               False          NaN   \n",
       "7  COVID-19 Violations               False          NaN   \n",
       "\n",
       "          date_time_closed         date_time_opened        incident_address  \\\n",
       "1                      NaN  2020-11-04T21:27:30.000       2612 Lebanon Pike   \n",
       "2                      NaN  2020-11-04T21:31:04.000        130 W Trinity Ln   \n",
       "3  2020-11-04T15:00:35.000  2020-11-03T20:19:45.000       3441 Lebanon Pike   \n",
       "5  2020-11-04T14:51:07.000  2020-11-03T15:32:21.000         440 McMurray Dr   \n",
       "7                      NaN  2020-11-04T17:48:22.000  2381 Murfreesboro Pike   \n",
       "\n",
       "  incident_city  incident_council_district  incident_zip_code   latitude  \\\n",
       "1     NASHVILLE                       15.0            37214.0  36.170223   \n",
       "2     NASHVILLE                        5.0            37207.0  36.205655   \n",
       "3     HERMITAGE                       14.0            37076.0  36.189819   \n",
       "5     NASHVILLE                       27.0            37211.0  36.061900   \n",
       "7     NASHVILLE                       28.0            37217.0  36.082906   \n",
       "\n",
       "   longitude                                    mapped_location  parent_case  \\\n",
       "1 -86.673428  {'latitude': '36.1702228', 'longitude': '-86.6...          NaN   \n",
       "2 -86.772439  {'latitude': '36.2056553', 'longitude': '-86.7...          NaN   \n",
       "3 -86.624601  {'latitude': '36.18981867780618', 'longitude':...          NaN   \n",
       "5 -86.718059  {'latitude': '36.0618999', 'longitude': '-86.7...          NaN   \n",
       "7 -86.648202  {'latitude': '36.082905861572854', 'longitude'...          NaN   \n",
       "\n",
       "  state_issue  status  \n",
       "1       False     New  \n",
       "2       False     New  \n",
       "3       False  Closed  \n",
       "5       False  Closed  \n",
       "7       False     New  "
      ]
     },
     "execution_count": 9,
     "metadata": {},
     "output_type": "execute_result"
    }
   ],
   "source": [
    "covid19.head()"
   ]
  },
  {
   "cell_type": "code",
   "execution_count": null,
   "metadata": {
    "scrolled": true
   },
   "outputs": [],
   "source": []
  },
  {
   "cell_type": "code",
   "execution_count": null,
   "metadata": {},
   "outputs": [],
   "source": []
  },
  {
   "cell_type": "code",
   "execution_count": 11,
   "metadata": {},
   "outputs": [
    {
     "data": {
      "text/plain": [
       "array(['COVID-19'], dtype=object)"
      ]
     },
     "execution_count": 11,
     "metadata": {},
     "output_type": "execute_result"
    }
   ],
   "source": [
    "covid19[\"case_request\"].unique()"
   ]
  },
  {
   "cell_type": "code",
   "execution_count": null,
   "metadata": {},
   "outputs": [],
   "source": [
    "covid19[\"Closed When Created\"].unique()"
   ]
  },
  {
   "cell_type": "code",
   "execution_count": null,
   "metadata": {},
   "outputs": [],
   "source": [
    "covid19 = covid19.drop(columns = [\"additional_subrequest\", \"case_request\",\"case_subrequest\", \"\", \"\", \"\"], axis = 1)"
   ]
  },
  {
   "cell_type": "code",
   "execution_count": null,
   "metadata": {},
   "outputs": [],
   "source": [
    "covid19 = covid19.rename(columns ={\"request #\":\"request_number\", \"request origin\":\"request_origin\",\"contact type\":\"contact_type\", \"closed when created\": \"closed_when_created\", \"council district\": \"council_district\"})"
   ]
  },
  {
   "cell_type": "markdown",
   "metadata": {},
   "source": [
    "### Convert the time"
   ]
  },
  {
   "cell_type": "code",
   "execution_count": null,
   "metadata": {},
   "outputs": [],
   "source": [
    "# Converting the original date column from string to datetime\n",
    "covid19[\"date_opened\"] = covid19[\"date / time opened\"].astype(\"datetime64\")\n",
    "covid19[\"date_closed\"] = covid19[\"date / time closed\"].astype(\"datetime64\")\n",
    "covid19.info()"
   ]
  },
  {
   "cell_type": "code",
   "execution_count": null,
   "metadata": {},
   "outputs": [],
   "source": [
    "covid19['month_opened'] = covid19['date_opened'].dt.month\n",
    "covid19['day_opened'] = covid19['date_opened'].dt.day\n",
    "covid19['time_opened'] = covid19['date_opened'].dt.time\n",
    "\n",
    "covid19.head()"
   ]
  },
  {
   "cell_type": "code",
   "execution_count": null,
   "metadata": {
    "scrolled": true
   },
   "outputs": [],
   "source": [
    "covid19[\"month_day_opened\"] = covid19['date_opened'].dt.strftime('%m-%d') # from Taylor"
   ]
  },
  {
   "cell_type": "code",
   "execution_count": null,
   "metadata": {},
   "outputs": [],
   "source": [
    "covid19 = covid19.drop(columns = [\"date / time opened\", \"date / time closed\"], axis = 1)"
   ]
  },
  {
   "cell_type": "code",
   "execution_count": null,
   "metadata": {},
   "outputs": [],
   "source": [
    "# NB: there is missing values and this is why I can't convert the closed dates in integer (can't if Nan values) but I shouldn't need it for the project\n",
    "#covid19[[\"month_closed\", \"day_closed\"]] = covid19[[\"month_closed\", \"day_closed\"]].apply(pd.to_numeric)\n",
    "#covid19.info()"
   ]
  },
  {
   "cell_type": "code",
   "execution_count": null,
   "metadata": {},
   "outputs": [],
   "source": [
    "covid19.shape"
   ]
  },
  {
   "cell_type": "code",
   "execution_count": null,
   "metadata": {},
   "outputs": [],
   "source": [
    "covid19['month_day_opened'].hist(bins = 25);"
   ]
  },
  {
   "cell_type": "code",
   "execution_count": null,
   "metadata": {},
   "outputs": [],
   "source": []
  },
  {
   "cell_type": "code",
   "execution_count": null,
   "metadata": {},
   "outputs": [],
   "source": []
  },
  {
   "cell_type": "code",
   "execution_count": null,
   "metadata": {},
   "outputs": [],
   "source": [
    "fontsize = 12\n",
    "\n",
    "plt.figure(figsize=(25,5))\n",
    "sns.barplot(data= covid19, x = \"state\", y = \"per_capita\")\n",
    "plt.xticks(rotation = 45)\n",
    "plt.xticks(fontsize = fontsize)\n",
    "plt.xlabel('State', fontsize = fontsize)\n",
    "plt.yticks(fontsize = fontsize)\n",
    "plt.ylabel('Per capita', fontsize = fontsize)\n",
    "plt.title('Distribution of candy consumption per state', fontsize = 14, fontweight = 'bold');"
   ]
  },
  {
   "cell_type": "code",
   "execution_count": null,
   "metadata": {},
   "outputs": [],
   "source": []
  },
  {
   "cell_type": "code",
   "execution_count": null,
   "metadata": {},
   "outputs": [],
   "source": []
  },
  {
   "cell_type": "markdown",
   "metadata": {},
   "source": [
    "### Convert the location into a geodata point"
   ]
  },
  {
   "cell_type": "code",
   "execution_count": null,
   "metadata": {},
   "outputs": [],
   "source": [
    "#import geopandas as gpd\n",
    "#covid19 = gpd.GeoDataFrame(\n",
    "#            covid19, geometry=gpd.points_from_xy(covid19.longitude, covid19.latitude))"
   ]
  },
  {
   "cell_type": "code",
   "execution_count": null,
   "metadata": {},
   "outputs": [],
   "source": []
  },
  {
   "cell_type": "code",
   "execution_count": null,
   "metadata": {},
   "outputs": [],
   "source": []
  },
  {
   "cell_type": "code",
   "execution_count": null,
   "metadata": {},
   "outputs": [],
   "source": []
  }
 ],
 "metadata": {
  "kernelspec": {
   "display_name": "Python 3",
   "language": "python",
   "name": "python3"
  },
  "language_info": {
   "codemirror_mode": {
    "name": "ipython",
    "version": 3
   },
   "file_extension": ".py",
   "mimetype": "text/x-python",
   "name": "python",
   "nbconvert_exporter": "python",
   "pygments_lexer": "ipython3",
   "version": "3.7.3"
  }
 },
 "nbformat": 4,
 "nbformat_minor": 2
}
