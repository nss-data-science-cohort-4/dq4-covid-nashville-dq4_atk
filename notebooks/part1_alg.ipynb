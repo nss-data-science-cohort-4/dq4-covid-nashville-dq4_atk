{
 "cells": [
  {
   "cell_type": "markdown",
   "metadata": {},
   "source": [
    "## Part1: For this project, you should look at requests with Request Type of \"COVID-19\" and Subrequest Type of \"COVID-19 Violations\". "
   ]
  },
  {
   "cell_type": "code",
   "execution_count": 1,
   "metadata": {},
   "outputs": [],
   "source": [
    "import pandas as pd\n",
    "import numpy as np\n",
    "import matplotlib.pyplot as plt\n",
    "import seaborn as sns\n",
    "import json\n",
    "import requests\n",
    "\n",
    "%matplotlib inline"
   ]
  },
  {
   "cell_type": "code",
   "execution_count": 2,
   "metadata": {},
   "outputs": [],
   "source": [
    "# to see all columns\n",
    "pd.set_option('display.max_columns', None)"
   ]
  },
  {
   "cell_type": "markdown",
   "metadata": {},
   "source": [
    "### Using the csv file:"
   ]
  },
  {
   "cell_type": "code",
   "execution_count": null,
   "metadata": {},
   "outputs": [],
   "source": [
    "#hubNash = pd.read_csv(\"../data/hubNashville__311__Service_Requests.csv\")"
   ]
  },
  {
   "cell_type": "code",
   "execution_count": null,
   "metadata": {},
   "outputs": [],
   "source": [
    "#covid19 = hubNash[(hubNash[\"Request Type\"] == \"COVID-19\") & hubNash[\"Subrequest Type\"].str.contains(\"COVID-19 Violations\")]"
   ]
  },
  {
   "cell_type": "markdown",
   "metadata": {},
   "source": [
    "### Using Json files:"
   ]
  },
  {
   "cell_type": "code",
   "execution_count": 3,
   "metadata": {},
   "outputs": [],
   "source": [
    "#getting data from API, case_requests = COVID-19 and setting limit to 25k\n",
    "\n",
    "url = 'https://data.nashville.gov/resource/7qhx-rexh.json?case_request=COVID-19&$limit=25000'\n",
    "\n",
    "response = requests.get(url)"
   ]
  },
  {
   "cell_type": "code",
   "execution_count": 4,
   "metadata": {},
   "outputs": [],
   "source": [
    "#reading the json text to dataframe\n",
    "\n",
    "hubNashville = pd.read_json(response.text)"
   ]
  },
  {
   "cell_type": "code",
   "execution_count": 5,
   "metadata": {},
   "outputs": [],
   "source": [
    "#subsetting for case_request and case_subrequest\n",
    "\n",
    "covid19 = hubNashville[hubNashville[\"case_subrequest\"] == \"COVID-19 Violations\"]"
   ]
  },
  {
   "cell_type": "code",
   "execution_count": 6,
   "metadata": {},
   "outputs": [
    {
     "data": {
      "text/plain": [
       "(11676, 19)"
      ]
     },
     "execution_count": 6,
     "metadata": {},
     "output_type": "execute_result"
    }
   ],
   "source": [
    "covid19.shape"
   ]
  },
  {
   "cell_type": "code",
   "execution_count": 7,
   "metadata": {
    "scrolled": true
   },
   "outputs": [
    {
     "data": {
      "text/html": [
       "<div>\n",
       "<style scoped>\n",
       "    .dataframe tbody tr th:only-of-type {\n",
       "        vertical-align: middle;\n",
       "    }\n",
       "\n",
       "    .dataframe tbody tr th {\n",
       "        vertical-align: top;\n",
       "    }\n",
       "\n",
       "    .dataframe thead th {\n",
       "        text-align: right;\n",
       "    }\n",
       "</style>\n",
       "<table border=\"1\" class=\"dataframe\">\n",
       "  <thead>\n",
       "    <tr style=\"text-align: right;\">\n",
       "      <th></th>\n",
       "      <th>additional_subrequest</th>\n",
       "      <th>case_number</th>\n",
       "      <th>case_origin</th>\n",
       "      <th>case_request</th>\n",
       "      <th>case_subrequest</th>\n",
       "      <th>closed_when_created</th>\n",
       "      <th>contact_type</th>\n",
       "      <th>date_time_closed</th>\n",
       "      <th>date_time_opened</th>\n",
       "      <th>incident_address</th>\n",
       "      <th>incident_city</th>\n",
       "      <th>incident_council_district</th>\n",
       "      <th>incident_zip_code</th>\n",
       "      <th>latitude</th>\n",
       "      <th>longitude</th>\n",
       "      <th>mapped_location</th>\n",
       "      <th>parent_case</th>\n",
       "      <th>state_issue</th>\n",
       "      <th>status</th>\n",
       "    </tr>\n",
       "  </thead>\n",
       "  <tbody>\n",
       "    <tr>\n",
       "      <th>1</th>\n",
       "      <td>COVID-19 Violations</td>\n",
       "      <td>497626</td>\n",
       "      <td>hubNashville Community</td>\n",
       "      <td>COVID-19</td>\n",
       "      <td>COVID-19 Violations</td>\n",
       "      <td>False</td>\n",
       "      <td>NaN</td>\n",
       "      <td>NaN</td>\n",
       "      <td>2020-11-07T05:07:43.000</td>\n",
       "      <td>1531 Broadway</td>\n",
       "      <td>NASHVILLE</td>\n",
       "      <td>19.0</td>\n",
       "      <td>37203.0</td>\n",
       "      <td>36.154065</td>\n",
       "      <td>-86.792344</td>\n",
       "      <td>{'latitude': '36.1540647', 'longitude': '-86.7...</td>\n",
       "      <td>NaN</td>\n",
       "      <td>False</td>\n",
       "      <td>New</td>\n",
       "    </tr>\n",
       "    <tr>\n",
       "      <th>2</th>\n",
       "      <td>COVID-19 Violations</td>\n",
       "      <td>496725</td>\n",
       "      <td>hubNashville Community</td>\n",
       "      <td>COVID-19</td>\n",
       "      <td>COVID-19 Violations</td>\n",
       "      <td>False</td>\n",
       "      <td>NaN</td>\n",
       "      <td>2020-11-06T14:42:04.000</td>\n",
       "      <td>2020-11-06T02:05:43.000</td>\n",
       "      <td>401 Union St</td>\n",
       "      <td>NASHVILLE</td>\n",
       "      <td>19.0</td>\n",
       "      <td>37219.0</td>\n",
       "      <td>36.164800</td>\n",
       "      <td>-86.779929</td>\n",
       "      <td>{'latitude': '36.16480010000001', 'longitude':...</td>\n",
       "      <td>NaN</td>\n",
       "      <td>False</td>\n",
       "      <td>Closed</td>\n",
       "    </tr>\n",
       "    <tr>\n",
       "      <th>5</th>\n",
       "      <td>COVID-19 Violations</td>\n",
       "      <td>496741</td>\n",
       "      <td>hubNashville Community</td>\n",
       "      <td>COVID-19</td>\n",
       "      <td>COVID-19 Violations</td>\n",
       "      <td>False</td>\n",
       "      <td>NaN</td>\n",
       "      <td>2020-11-06T14:35:14.000</td>\n",
       "      <td>2020-11-06T04:19:04.000</td>\n",
       "      <td>81 Van Buren St</td>\n",
       "      <td>NASHVILLE</td>\n",
       "      <td>19.0</td>\n",
       "      <td>37208.0</td>\n",
       "      <td>36.181791</td>\n",
       "      <td>-86.784818</td>\n",
       "      <td>{'latitude': '36.181790734428645', 'longitude'...</td>\n",
       "      <td>NaN</td>\n",
       "      <td>False</td>\n",
       "      <td>Closed</td>\n",
       "    </tr>\n",
       "    <tr>\n",
       "      <th>6</th>\n",
       "      <td>COVID-19 Violations</td>\n",
       "      <td>496042</td>\n",
       "      <td>Phone</td>\n",
       "      <td>COVID-19</td>\n",
       "      <td>COVID-19 Violations</td>\n",
       "      <td>False</td>\n",
       "      <td>NaN</td>\n",
       "      <td>2020-11-06T14:38:31.000</td>\n",
       "      <td>2020-11-05T16:18:39.000</td>\n",
       "      <td>3204 Gallatin Pike</td>\n",
       "      <td>NASHVILLE</td>\n",
       "      <td>7.0</td>\n",
       "      <td>37216.0</td>\n",
       "      <td>36.205640</td>\n",
       "      <td>-86.735940</td>\n",
       "      <td>{'latitude': '36.20564', 'longitude': '-86.735...</td>\n",
       "      <td>NaN</td>\n",
       "      <td>False</td>\n",
       "      <td>Closed</td>\n",
       "    </tr>\n",
       "    <tr>\n",
       "      <th>9</th>\n",
       "      <td>COVID-19 Violations</td>\n",
       "      <td>496441</td>\n",
       "      <td>Phone</td>\n",
       "      <td>COVID-19</td>\n",
       "      <td>COVID-19 Violations</td>\n",
       "      <td>False</td>\n",
       "      <td>NaN</td>\n",
       "      <td>2020-11-06T14:41:16.000</td>\n",
       "      <td>2020-11-05T20:30:58.000</td>\n",
       "      <td>1716 Charlotte Ave</td>\n",
       "      <td>NASHVILLE</td>\n",
       "      <td>19.0</td>\n",
       "      <td>37203.0</td>\n",
       "      <td>36.158400</td>\n",
       "      <td>-86.799650</td>\n",
       "      <td>{'latitude': '36.1584', 'longitude': '-86.79965'}</td>\n",
       "      <td>NaN</td>\n",
       "      <td>False</td>\n",
       "      <td>Closed</td>\n",
       "    </tr>\n",
       "  </tbody>\n",
       "</table>\n",
       "</div>"
      ],
      "text/plain": [
       "  additional_subrequest  case_number             case_origin case_request  \\\n",
       "1   COVID-19 Violations       497626  hubNashville Community     COVID-19   \n",
       "2   COVID-19 Violations       496725  hubNashville Community     COVID-19   \n",
       "5   COVID-19 Violations       496741  hubNashville Community     COVID-19   \n",
       "6   COVID-19 Violations       496042                   Phone     COVID-19   \n",
       "9   COVID-19 Violations       496441                   Phone     COVID-19   \n",
       "\n",
       "       case_subrequest closed_when_created contact_type  \\\n",
       "1  COVID-19 Violations               False          NaN   \n",
       "2  COVID-19 Violations               False          NaN   \n",
       "5  COVID-19 Violations               False          NaN   \n",
       "6  COVID-19 Violations               False          NaN   \n",
       "9  COVID-19 Violations               False          NaN   \n",
       "\n",
       "          date_time_closed         date_time_opened    incident_address  \\\n",
       "1                      NaN  2020-11-07T05:07:43.000       1531 Broadway   \n",
       "2  2020-11-06T14:42:04.000  2020-11-06T02:05:43.000        401 Union St   \n",
       "5  2020-11-06T14:35:14.000  2020-11-06T04:19:04.000     81 Van Buren St   \n",
       "6  2020-11-06T14:38:31.000  2020-11-05T16:18:39.000  3204 Gallatin Pike   \n",
       "9  2020-11-06T14:41:16.000  2020-11-05T20:30:58.000  1716 Charlotte Ave   \n",
       "\n",
       "  incident_city  incident_council_district  incident_zip_code   latitude  \\\n",
       "1     NASHVILLE                       19.0            37203.0  36.154065   \n",
       "2     NASHVILLE                       19.0            37219.0  36.164800   \n",
       "5     NASHVILLE                       19.0            37208.0  36.181791   \n",
       "6     NASHVILLE                        7.0            37216.0  36.205640   \n",
       "9     NASHVILLE                       19.0            37203.0  36.158400   \n",
       "\n",
       "   longitude                                    mapped_location  parent_case  \\\n",
       "1 -86.792344  {'latitude': '36.1540647', 'longitude': '-86.7...          NaN   \n",
       "2 -86.779929  {'latitude': '36.16480010000001', 'longitude':...          NaN   \n",
       "5 -86.784818  {'latitude': '36.181790734428645', 'longitude'...          NaN   \n",
       "6 -86.735940  {'latitude': '36.20564', 'longitude': '-86.735...          NaN   \n",
       "9 -86.799650  {'latitude': '36.1584', 'longitude': '-86.79965'}          NaN   \n",
       "\n",
       "  state_issue  status  \n",
       "1       False     New  \n",
       "2       False  Closed  \n",
       "5       False  Closed  \n",
       "6       False  Closed  \n",
       "9       False  Closed  "
      ]
     },
     "execution_count": 7,
     "metadata": {},
     "output_type": "execute_result"
    }
   ],
   "source": [
    "covid19.head()"
   ]
  },
  {
   "cell_type": "code",
   "execution_count": 8,
   "metadata": {
    "scrolled": true
   },
   "outputs": [],
   "source": [
    "#drop columns\n",
    "covid19 = covid19.drop(columns = [\"additional_subrequest\", \"case_request\",\"case_subrequest\", \"case_origin\", \"mapped_location\", \"parent_case\"], axis = 1)"
   ]
  },
  {
   "cell_type": "code",
   "execution_count": 9,
   "metadata": {},
   "outputs": [
    {
     "data": {
      "text/html": [
       "<div>\n",
       "<style scoped>\n",
       "    .dataframe tbody tr th:only-of-type {\n",
       "        vertical-align: middle;\n",
       "    }\n",
       "\n",
       "    .dataframe tbody tr th {\n",
       "        vertical-align: top;\n",
       "    }\n",
       "\n",
       "    .dataframe thead th {\n",
       "        text-align: right;\n",
       "    }\n",
       "</style>\n",
       "<table border=\"1\" class=\"dataframe\">\n",
       "  <thead>\n",
       "    <tr style=\"text-align: right;\">\n",
       "      <th></th>\n",
       "      <th>case_number</th>\n",
       "      <th>closed_when_created</th>\n",
       "      <th>contact_type</th>\n",
       "      <th>date_time_closed</th>\n",
       "      <th>date_time_opened</th>\n",
       "      <th>incident_address</th>\n",
       "      <th>incident_city</th>\n",
       "      <th>incident_council_district</th>\n",
       "      <th>incident_zip_code</th>\n",
       "      <th>latitude</th>\n",
       "      <th>longitude</th>\n",
       "      <th>state_issue</th>\n",
       "      <th>status</th>\n",
       "    </tr>\n",
       "  </thead>\n",
       "  <tbody>\n",
       "    <tr>\n",
       "      <th>1</th>\n",
       "      <td>497626</td>\n",
       "      <td>False</td>\n",
       "      <td>NaN</td>\n",
       "      <td>NaN</td>\n",
       "      <td>2020-11-07T05:07:43.000</td>\n",
       "      <td>1531 Broadway</td>\n",
       "      <td>NASHVILLE</td>\n",
       "      <td>19.0</td>\n",
       "      <td>37203.0</td>\n",
       "      <td>36.154065</td>\n",
       "      <td>-86.792344</td>\n",
       "      <td>False</td>\n",
       "      <td>New</td>\n",
       "    </tr>\n",
       "    <tr>\n",
       "      <th>2</th>\n",
       "      <td>496725</td>\n",
       "      <td>False</td>\n",
       "      <td>NaN</td>\n",
       "      <td>2020-11-06T14:42:04.000</td>\n",
       "      <td>2020-11-06T02:05:43.000</td>\n",
       "      <td>401 Union St</td>\n",
       "      <td>NASHVILLE</td>\n",
       "      <td>19.0</td>\n",
       "      <td>37219.0</td>\n",
       "      <td>36.164800</td>\n",
       "      <td>-86.779929</td>\n",
       "      <td>False</td>\n",
       "      <td>Closed</td>\n",
       "    </tr>\n",
       "    <tr>\n",
       "      <th>5</th>\n",
       "      <td>496741</td>\n",
       "      <td>False</td>\n",
       "      <td>NaN</td>\n",
       "      <td>2020-11-06T14:35:14.000</td>\n",
       "      <td>2020-11-06T04:19:04.000</td>\n",
       "      <td>81 Van Buren St</td>\n",
       "      <td>NASHVILLE</td>\n",
       "      <td>19.0</td>\n",
       "      <td>37208.0</td>\n",
       "      <td>36.181791</td>\n",
       "      <td>-86.784818</td>\n",
       "      <td>False</td>\n",
       "      <td>Closed</td>\n",
       "    </tr>\n",
       "    <tr>\n",
       "      <th>6</th>\n",
       "      <td>496042</td>\n",
       "      <td>False</td>\n",
       "      <td>NaN</td>\n",
       "      <td>2020-11-06T14:38:31.000</td>\n",
       "      <td>2020-11-05T16:18:39.000</td>\n",
       "      <td>3204 Gallatin Pike</td>\n",
       "      <td>NASHVILLE</td>\n",
       "      <td>7.0</td>\n",
       "      <td>37216.0</td>\n",
       "      <td>36.205640</td>\n",
       "      <td>-86.735940</td>\n",
       "      <td>False</td>\n",
       "      <td>Closed</td>\n",
       "    </tr>\n",
       "    <tr>\n",
       "      <th>9</th>\n",
       "      <td>496441</td>\n",
       "      <td>False</td>\n",
       "      <td>NaN</td>\n",
       "      <td>2020-11-06T14:41:16.000</td>\n",
       "      <td>2020-11-05T20:30:58.000</td>\n",
       "      <td>1716 Charlotte Ave</td>\n",
       "      <td>NASHVILLE</td>\n",
       "      <td>19.0</td>\n",
       "      <td>37203.0</td>\n",
       "      <td>36.158400</td>\n",
       "      <td>-86.799650</td>\n",
       "      <td>False</td>\n",
       "      <td>Closed</td>\n",
       "    </tr>\n",
       "  </tbody>\n",
       "</table>\n",
       "</div>"
      ],
      "text/plain": [
       "   case_number closed_when_created contact_type         date_time_closed  \\\n",
       "1       497626               False          NaN                      NaN   \n",
       "2       496725               False          NaN  2020-11-06T14:42:04.000   \n",
       "5       496741               False          NaN  2020-11-06T14:35:14.000   \n",
       "6       496042               False          NaN  2020-11-06T14:38:31.000   \n",
       "9       496441               False          NaN  2020-11-06T14:41:16.000   \n",
       "\n",
       "          date_time_opened    incident_address incident_city  \\\n",
       "1  2020-11-07T05:07:43.000       1531 Broadway     NASHVILLE   \n",
       "2  2020-11-06T02:05:43.000        401 Union St     NASHVILLE   \n",
       "5  2020-11-06T04:19:04.000     81 Van Buren St     NASHVILLE   \n",
       "6  2020-11-05T16:18:39.000  3204 Gallatin Pike     NASHVILLE   \n",
       "9  2020-11-05T20:30:58.000  1716 Charlotte Ave     NASHVILLE   \n",
       "\n",
       "   incident_council_district  incident_zip_code   latitude  longitude  \\\n",
       "1                       19.0            37203.0  36.154065 -86.792344   \n",
       "2                       19.0            37219.0  36.164800 -86.779929   \n",
       "5                       19.0            37208.0  36.181791 -86.784818   \n",
       "6                        7.0            37216.0  36.205640 -86.735940   \n",
       "9                       19.0            37203.0  36.158400 -86.799650   \n",
       "\n",
       "  state_issue  status  \n",
       "1       False     New  \n",
       "2       False  Closed  \n",
       "5       False  Closed  \n",
       "6       False  Closed  \n",
       "9       False  Closed  "
      ]
     },
     "execution_count": 9,
     "metadata": {},
     "output_type": "execute_result"
    }
   ],
   "source": [
    "covid19.head()"
   ]
  },
  {
   "cell_type": "code",
   "execution_count": 10,
   "metadata": {
    "scrolled": true
   },
   "outputs": [
    {
     "data": {
      "text/plain": [
       "(11676, 13)"
      ]
     },
     "execution_count": 10,
     "metadata": {},
     "output_type": "execute_result"
    }
   ],
   "source": [
    "covid19.shape"
   ]
  },
  {
   "cell_type": "markdown",
   "metadata": {},
   "source": [
    "### Convert the time"
   ]
  },
  {
   "cell_type": "code",
   "execution_count": 11,
   "metadata": {},
   "outputs": [
    {
     "name": "stdout",
     "output_type": "stream",
     "text": [
      "<class 'pandas.core.frame.DataFrame'>\n",
      "Int64Index: 11676 entries, 1 to 15999\n",
      "Data columns (total 14 columns):\n",
      "case_number                  11676 non-null int64\n",
      "closed_when_created          11676 non-null object\n",
      "contact_type                 46 non-null object\n",
      "date_time_closed             11646 non-null object\n",
      "date_time_opened             11676 non-null object\n",
      "incident_address             11400 non-null object\n",
      "incident_city                10694 non-null object\n",
      "incident_council_district    10727 non-null float64\n",
      "incident_zip_code            10759 non-null float64\n",
      "latitude                     11398 non-null float64\n",
      "longitude                    11398 non-null float64\n",
      "state_issue                  11676 non-null object\n",
      "status                       11676 non-null object\n",
      "date_opened                  11676 non-null datetime64[ns]\n",
      "dtypes: datetime64[ns](1), float64(4), int64(1), object(8)\n",
      "memory usage: 1.3+ MB\n"
     ]
    }
   ],
   "source": [
    "# Converting the original date column from string to datetime\n",
    "covid19[\"date_opened\"] = covid19[\"date_time_opened\"].astype(\"datetime64\")\n",
    "\n",
    "covid19.info()"
   ]
  },
  {
   "cell_type": "code",
   "execution_count": 12,
   "metadata": {
    "scrolled": true
   },
   "outputs": [
    {
     "data": {
      "text/html": [
       "<div>\n",
       "<style scoped>\n",
       "    .dataframe tbody tr th:only-of-type {\n",
       "        vertical-align: middle;\n",
       "    }\n",
       "\n",
       "    .dataframe tbody tr th {\n",
       "        vertical-align: top;\n",
       "    }\n",
       "\n",
       "    .dataframe thead th {\n",
       "        text-align: right;\n",
       "    }\n",
       "</style>\n",
       "<table border=\"1\" class=\"dataframe\">\n",
       "  <thead>\n",
       "    <tr style=\"text-align: right;\">\n",
       "      <th></th>\n",
       "      <th>case_number</th>\n",
       "      <th>closed_when_created</th>\n",
       "      <th>contact_type</th>\n",
       "      <th>date_time_closed</th>\n",
       "      <th>date_time_opened</th>\n",
       "      <th>incident_address</th>\n",
       "      <th>incident_city</th>\n",
       "      <th>incident_council_district</th>\n",
       "      <th>incident_zip_code</th>\n",
       "      <th>latitude</th>\n",
       "      <th>longitude</th>\n",
       "      <th>state_issue</th>\n",
       "      <th>status</th>\n",
       "      <th>date_opened</th>\n",
       "      <th>month_opened</th>\n",
       "      <th>day_opened</th>\n",
       "      <th>time_opened</th>\n",
       "    </tr>\n",
       "  </thead>\n",
       "  <tbody>\n",
       "    <tr>\n",
       "      <th>1</th>\n",
       "      <td>497626</td>\n",
       "      <td>False</td>\n",
       "      <td>NaN</td>\n",
       "      <td>NaN</td>\n",
       "      <td>2020-11-07T05:07:43.000</td>\n",
       "      <td>1531 Broadway</td>\n",
       "      <td>NASHVILLE</td>\n",
       "      <td>19.0</td>\n",
       "      <td>37203.0</td>\n",
       "      <td>36.154065</td>\n",
       "      <td>-86.792344</td>\n",
       "      <td>False</td>\n",
       "      <td>New</td>\n",
       "      <td>2020-11-07 05:07:43</td>\n",
       "      <td>11</td>\n",
       "      <td>7</td>\n",
       "      <td>05:07:43</td>\n",
       "    </tr>\n",
       "    <tr>\n",
       "      <th>2</th>\n",
       "      <td>496725</td>\n",
       "      <td>False</td>\n",
       "      <td>NaN</td>\n",
       "      <td>2020-11-06T14:42:04.000</td>\n",
       "      <td>2020-11-06T02:05:43.000</td>\n",
       "      <td>401 Union St</td>\n",
       "      <td>NASHVILLE</td>\n",
       "      <td>19.0</td>\n",
       "      <td>37219.0</td>\n",
       "      <td>36.164800</td>\n",
       "      <td>-86.779929</td>\n",
       "      <td>False</td>\n",
       "      <td>Closed</td>\n",
       "      <td>2020-11-06 02:05:43</td>\n",
       "      <td>11</td>\n",
       "      <td>6</td>\n",
       "      <td>02:05:43</td>\n",
       "    </tr>\n",
       "    <tr>\n",
       "      <th>5</th>\n",
       "      <td>496741</td>\n",
       "      <td>False</td>\n",
       "      <td>NaN</td>\n",
       "      <td>2020-11-06T14:35:14.000</td>\n",
       "      <td>2020-11-06T04:19:04.000</td>\n",
       "      <td>81 Van Buren St</td>\n",
       "      <td>NASHVILLE</td>\n",
       "      <td>19.0</td>\n",
       "      <td>37208.0</td>\n",
       "      <td>36.181791</td>\n",
       "      <td>-86.784818</td>\n",
       "      <td>False</td>\n",
       "      <td>Closed</td>\n",
       "      <td>2020-11-06 04:19:04</td>\n",
       "      <td>11</td>\n",
       "      <td>6</td>\n",
       "      <td>04:19:04</td>\n",
       "    </tr>\n",
       "    <tr>\n",
       "      <th>6</th>\n",
       "      <td>496042</td>\n",
       "      <td>False</td>\n",
       "      <td>NaN</td>\n",
       "      <td>2020-11-06T14:38:31.000</td>\n",
       "      <td>2020-11-05T16:18:39.000</td>\n",
       "      <td>3204 Gallatin Pike</td>\n",
       "      <td>NASHVILLE</td>\n",
       "      <td>7.0</td>\n",
       "      <td>37216.0</td>\n",
       "      <td>36.205640</td>\n",
       "      <td>-86.735940</td>\n",
       "      <td>False</td>\n",
       "      <td>Closed</td>\n",
       "      <td>2020-11-05 16:18:39</td>\n",
       "      <td>11</td>\n",
       "      <td>5</td>\n",
       "      <td>16:18:39</td>\n",
       "    </tr>\n",
       "    <tr>\n",
       "      <th>9</th>\n",
       "      <td>496441</td>\n",
       "      <td>False</td>\n",
       "      <td>NaN</td>\n",
       "      <td>2020-11-06T14:41:16.000</td>\n",
       "      <td>2020-11-05T20:30:58.000</td>\n",
       "      <td>1716 Charlotte Ave</td>\n",
       "      <td>NASHVILLE</td>\n",
       "      <td>19.0</td>\n",
       "      <td>37203.0</td>\n",
       "      <td>36.158400</td>\n",
       "      <td>-86.799650</td>\n",
       "      <td>False</td>\n",
       "      <td>Closed</td>\n",
       "      <td>2020-11-05 20:30:58</td>\n",
       "      <td>11</td>\n",
       "      <td>5</td>\n",
       "      <td>20:30:58</td>\n",
       "    </tr>\n",
       "  </tbody>\n",
       "</table>\n",
       "</div>"
      ],
      "text/plain": [
       "   case_number closed_when_created contact_type         date_time_closed  \\\n",
       "1       497626               False          NaN                      NaN   \n",
       "2       496725               False          NaN  2020-11-06T14:42:04.000   \n",
       "5       496741               False          NaN  2020-11-06T14:35:14.000   \n",
       "6       496042               False          NaN  2020-11-06T14:38:31.000   \n",
       "9       496441               False          NaN  2020-11-06T14:41:16.000   \n",
       "\n",
       "          date_time_opened    incident_address incident_city  \\\n",
       "1  2020-11-07T05:07:43.000       1531 Broadway     NASHVILLE   \n",
       "2  2020-11-06T02:05:43.000        401 Union St     NASHVILLE   \n",
       "5  2020-11-06T04:19:04.000     81 Van Buren St     NASHVILLE   \n",
       "6  2020-11-05T16:18:39.000  3204 Gallatin Pike     NASHVILLE   \n",
       "9  2020-11-05T20:30:58.000  1716 Charlotte Ave     NASHVILLE   \n",
       "\n",
       "   incident_council_district  incident_zip_code   latitude  longitude  \\\n",
       "1                       19.0            37203.0  36.154065 -86.792344   \n",
       "2                       19.0            37219.0  36.164800 -86.779929   \n",
       "5                       19.0            37208.0  36.181791 -86.784818   \n",
       "6                        7.0            37216.0  36.205640 -86.735940   \n",
       "9                       19.0            37203.0  36.158400 -86.799650   \n",
       "\n",
       "  state_issue  status         date_opened  month_opened  day_opened  \\\n",
       "1       False     New 2020-11-07 05:07:43            11           7   \n",
       "2       False  Closed 2020-11-06 02:05:43            11           6   \n",
       "5       False  Closed 2020-11-06 04:19:04            11           6   \n",
       "6       False  Closed 2020-11-05 16:18:39            11           5   \n",
       "9       False  Closed 2020-11-05 20:30:58            11           5   \n",
       "\n",
       "  time_opened  \n",
       "1    05:07:43  \n",
       "2    02:05:43  \n",
       "5    04:19:04  \n",
       "6    16:18:39  \n",
       "9    20:30:58  "
      ]
     },
     "execution_count": 12,
     "metadata": {},
     "output_type": "execute_result"
    }
   ],
   "source": [
    "covid19['month_opened'] = covid19['date_opened'].dt.month\n",
    "covid19['day_opened'] = covid19['date_opened'].dt.day\n",
    "covid19['time_opened'] = covid19['date_opened'].dt.time\n",
    "\n",
    "covid19.head()"
   ]
  },
  {
   "cell_type": "code",
   "execution_count": 13,
   "metadata": {
    "scrolled": true
   },
   "outputs": [
    {
     "data": {
      "text/plain": [
       "array([11, 10,  8,  9,  7,  4,  3,  5,  6])"
      ]
     },
     "execution_count": 13,
     "metadata": {},
     "output_type": "execute_result"
    }
   ],
   "source": [
    "covid19[\"month_opened\"].unique()"
   ]
  },
  {
   "cell_type": "code",
   "execution_count": 14,
   "metadata": {
    "scrolled": true
   },
   "outputs": [],
   "source": [
    "covid19[\"month_day_opened\"] = covid19['date_opened'].dt.strftime('%m-%d') # from Taylor"
   ]
  },
  {
   "cell_type": "code",
   "execution_count": 15,
   "metadata": {},
   "outputs": [],
   "source": [
    "# drop \"date_time_opened\"\n",
    "covid19 = covid19.drop(columns = [\"date_time_opened\"], axis = 1)"
   ]
  },
  {
   "cell_type": "code",
   "execution_count": 16,
   "metadata": {},
   "outputs": [],
   "source": [
    "# NB: there is missing values and this is why I can't convert the closed dates in integer (can't if Nan values) but I shouldn't need it for the project\n",
    "#covid19[[\"month_closed\", \"day_closed\"]] = covid19[[\"month_closed\", \"day_closed\"]].apply(pd.to_numeric)\n",
    "#covid19.info()"
   ]
  },
  {
   "cell_type": "code",
   "execution_count": 17,
   "metadata": {},
   "outputs": [
    {
     "data": {
      "text/plain": [
       "(11676, 17)"
      ]
     },
     "execution_count": 17,
     "metadata": {},
     "output_type": "execute_result"
    }
   ],
   "source": [
    "covid19.shape"
   ]
  },
  {
   "cell_type": "code",
   "execution_count": 28,
   "metadata": {},
   "outputs": [
    {
     "data": {
      "image/png": "[encoded data removed]",
      "text/plain": [
       "<Figure size 432x288 with 1 Axes>"
      ]
     },
     "metadata": {
      "needs_background": "light"
     },
     "output_type": "display_data"
    }
   ],
   "source": [
    "covid19['day_opened'].hist(bins = 50);"
   ]
  },
  {
   "cell_type": "code",
   "execution_count": 20,
   "metadata": {},
   "outputs": [
    {
     "data": {
      "image/png": "[encoded data removed]",
      "text/plain": [
       "<Figure size 432x288 with 1 Axes>"
      ]
     },
     "metadata": {
      "needs_background": "light"
     },
     "output_type": "display_data"
    }
   ],
   "source": [
    "covid19['month_opened'].value_counts().sort_index().plot(kind=\"bar\");"
   ]
  },
  {
   "cell_type": "code",
   "execution_count": null,
   "metadata": {},
   "outputs": [],
   "source": []
  },
  {
   "cell_type": "code",
   "execution_count": null,
   "metadata": {},
   "outputs": [],
   "source": []
  },
  {
   "cell_type": "code",
   "execution_count": null,
   "metadata": {},
   "outputs": [],
   "source": []
  },
  {
   "cell_type": "code",
   "execution_count": null,
   "metadata": {},
   "outputs": [],
   "source": []
  },
  {
   "cell_type": "markdown",
   "metadata": {},
   "source": [
    "### Convert the location into a geodata point"
   ]
  },
  {
   "cell_type": "code",
   "execution_count": null,
   "metadata": {},
   "outputs": [],
   "source": [
    "#import geopandas as gpd\n",
    "#covid19 = gpd.GeoDataFrame(\n",
    "#            covid19, geometry=gpd.points_from_xy(covid19.longitude, covid19.latitude))"
   ]
  },
  {
   "cell_type": "code",
   "execution_count": null,
   "metadata": {},
   "outputs": [],
   "source": []
  },
  {
   "cell_type": "code",
   "execution_count": null,
   "metadata": {},
   "outputs": [],
   "source": []
  },
  {
   "cell_type": "code",
   "execution_count": null,
   "metadata": {},
   "outputs": [],
   "source": []
  }
 ],
 "metadata": {
  "kernelspec": {
   "display_name": "Python 3",
   "language": "python",
   "name": "python3"
  },
  "language_info": {
   "codemirror_mode": {
    "name": "ipython",
    "version": 3
   },
   "file_extension": ".py",
   "mimetype": "text/x-python",
   "name": "python",
   "nbconvert_exporter": "python",
   "pygments_lexer": "ipython3",
   "version": "3.7.3"
  }
 },
 "nbformat": 4,
 "nbformat_minor": 2
}
