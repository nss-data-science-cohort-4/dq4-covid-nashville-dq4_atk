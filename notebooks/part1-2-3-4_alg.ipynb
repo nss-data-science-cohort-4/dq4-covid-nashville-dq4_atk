{
 "cells": [
  {
   "cell_type": "markdown",
   "metadata": {},
   "source": [
    "## Part1: For this project, you should look at requests with Request Type of \"COVID-19\" and Subrequest Type of \"COVID-19 Violations\". "
   ]
  },
  {
   "cell_type": "code",
   "execution_count": null,
   "metadata": {},
   "outputs": [],
   "source": [
    "import pandas as pd\n",
    "import numpy as np\n",
    "import matplotlib.pyplot as plt\n",
    "import seaborn as sns\n",
    "import json\n",
    "import requests\n",
    "\n",
    "from shapely.geometry import Point\n",
    "import geopandas as gpd\n",
    "import folium\n",
    "from folium.plugins import MarkerCluster\n",
    "from folium.plugins import FastMarkerCluster\n",
    "\n",
    "%matplotlib inline"
   ]
  },
  {
   "cell_type": "code",
   "execution_count": null,
   "metadata": {},
   "outputs": [],
   "source": [
    "# to see all columns\n",
    "pd.set_option('display.max_columns', None)"
   ]
  },
  {
   "cell_type": "markdown",
   "metadata": {},
   "source": [
    "### 1-Using Json files:"
   ]
  },
  {
   "cell_type": "code",
   "execution_count": null,
   "metadata": {},
   "outputs": [],
   "source": [
    "#getting data from API, case_requests = COVID-19 and setting limit to 25k\n",
    "\n",
    "url = 'https://data.nashville.gov/resource/7qhx-rexh.json?case_request=COVID-19&$limit=25000'\n",
    "\n",
    "response = requests.get(url)"
   ]
  },
  {
   "cell_type": "code",
   "execution_count": null,
   "metadata": {},
   "outputs": [],
   "source": [
    "#reading the json text to dataframe\n",
    "\n",
    "hubNashville = pd.read_json(response.text)"
   ]
  },
  {
   "cell_type": "code",
   "execution_count": null,
   "metadata": {},
   "outputs": [],
   "source": [
    "#subsetting for case_request and case_subrequest\n",
    "\n",
    "covid19 = hubNashville[hubNashville[\"case_subrequest\"] == \"COVID-19 Violations\"]"
   ]
  },
  {
   "cell_type": "code",
   "execution_count": null,
   "metadata": {},
   "outputs": [],
   "source": [
    "covid19.shape"
   ]
  },
  {
   "cell_type": "code",
   "execution_count": null,
   "metadata": {
    "scrolled": true
   },
   "outputs": [],
   "source": [
    "#drop columns\n",
    "covid19 = covid19.drop(columns = [\"additional_subrequest\",\"case_subrequest\", \"case_origin\", \"mapped_location\", \"parent_case\"], axis = 1)"
   ]
  },
  {
   "cell_type": "code",
   "execution_count": null,
   "metadata": {
    "scrolled": true
   },
   "outputs": [],
   "source": [
    "covid19.shape"
   ]
  },
  {
   "cell_type": "code",
   "execution_count": null,
   "metadata": {},
   "outputs": [],
   "source": [
    "covid19.head(2)"
   ]
  },
  {
   "cell_type": "markdown",
   "metadata": {},
   "source": [
    "### 2-Convert the time"
   ]
  },
  {
   "cell_type": "code",
   "execution_count": null,
   "metadata": {},
   "outputs": [],
   "source": [
    "# Converting the original date column from string to datetime\n",
    "covid19[\"date_opened\"] = covid19[\"date_time_opened\"].astype(\"datetime64\")\n",
    "\n",
    "covid19.info()"
   ]
  },
  {
   "cell_type": "code",
   "execution_count": null,
   "metadata": {
    "scrolled": true
   },
   "outputs": [],
   "source": [
    "covid19['month_opened'] = covid19['date_opened'].dt.month\n",
    "covid19['day_opened'] = covid19['date_opened'].dt.day\n",
    "covid19['time_opened'] = covid19['date_opened'].dt.time\n",
    "\n",
    "covid19.head()"
   ]
  },
  {
   "cell_type": "code",
   "execution_count": null,
   "metadata": {
    "scrolled": true
   },
   "outputs": [],
   "source": [
    "covid19[\"month_day_opened\"] = covid19['date_opened'].dt.strftime('%m-%d') # from Taylor"
   ]
  },
  {
   "cell_type": "code",
   "execution_count": null,
   "metadata": {},
   "outputs": [],
   "source": [
    "# drop \"date_time_opened\"\n",
    "covid19 = covid19.drop(columns = [\"date_time_opened\"], axis = 1)"
   ]
  },
  {
   "cell_type": "code",
   "execution_count": null,
   "metadata": {},
   "outputs": [],
   "source": [
    "# NB: there is missing values and this is why I can't convert the closed dates in integer (can't if Nan values) but I shouldn't need it for the project\n",
    "#covid19[[\"month_closed\", \"day_closed\"]] = covid19[[\"month_closed\", \"day_closed\"]].apply(pd.to_numeric)\n",
    "#covid19.info()"
   ]
  },
  {
   "cell_type": "code",
   "execution_count": null,
   "metadata": {},
   "outputs": [],
   "source": [
    "covid19['month_opened'].value_counts().sort_index().plot(kind=\"bar\");"
   ]
  },
  {
   "cell_type": "code",
   "execution_count": null,
   "metadata": {
    "scrolled": true
   },
   "outputs": [],
   "source": [
    "ax= covid19['month_day_opened'].value_counts().sort_index().plot(rot=45, figsize=(20, 10))\n",
    "\n",
    "ax.set_xlabel(\"date\")\n",
    "ax.set_ylabel(\"Number of incidents\");"
   ]
  },
  {
   "cell_type": "code",
   "execution_count": null,
   "metadata": {},
   "outputs": [],
   "source": [
    "#covid19['log'] = covid19['GDP_Per_Capita'].apply(np.log)"
   ]
  },
  {
   "cell_type": "markdown",
   "metadata": {},
   "source": [
    "## Part2: file davidson_cases.csv"
   ]
  },
  {
   "cell_type": "markdown",
   "metadata": {},
   "source": [
    "### The file davidson_cases.csv contains the number of COVID cases in Davidson county per day from March 8 through October 29. Use this dataset to compare the trend for the number of cases over time to the number of reported violations. Feel free to add any additional data that you think might be useful."
   ]
  },
  {
   "cell_type": "code",
   "execution_count": null,
   "metadata": {
    "scrolled": false
   },
   "outputs": [],
   "source": [
    "davidson_cases = pd.read_csv(\"../data/davidson_cases.csv\")\n",
    "davidson_cases.head()"
   ]
  },
  {
   "cell_type": "markdown",
   "metadata": {},
   "source": [
    "### 1-Convert the time"
   ]
  },
  {
   "cell_type": "code",
   "execution_count": null,
   "metadata": {},
   "outputs": [],
   "source": [
    "# Converting the original date column from string to datetime\n",
    "davidson_cases[\"date\"] = davidson_cases[\"date\"].astype(\"datetime64\")\n",
    "\n",
    "davidson_cases.info()"
   ]
  },
  {
   "cell_type": "code",
   "execution_count": null,
   "metadata": {},
   "outputs": [],
   "source": [
    "davidson_cases['month'] = davidson_cases['date'].dt.month\n",
    "davidson_cases['day'] = davidson_cases['date'].dt.day\n",
    "\n",
    "davidson_cases.head()"
   ]
  },
  {
   "cell_type": "code",
   "execution_count": null,
   "metadata": {
    "scrolled": true
   },
   "outputs": [],
   "source": [
    "davidson_cases[\"month_day\"] = davidson_cases['date'].dt.strftime('%m-%d')"
   ]
  },
  {
   "cell_type": "markdown",
   "metadata": {},
   "source": [
    "### 2-Compare the number of cases and the number of reported violations over time:"
   ]
  },
  {
   "cell_type": "code",
   "execution_count": null,
   "metadata": {},
   "outputs": [],
   "source": [
    "# making a df of month and day opened # from Taylor\n",
    "violations_by_day = covid19.groupby('month_day_opened').size().to_frame('count')"
   ]
  },
  {
   "cell_type": "code",
   "execution_count": null,
   "metadata": {},
   "outputs": [],
   "source": [
    "violations_by_day.head(3)"
   ]
  },
  {
   "cell_type": "code",
   "execution_count": null,
   "metadata": {},
   "outputs": [],
   "source": [
    "# from Taylor\n",
    "fig, ax = plt.subplots(figsize=(9,5))\n",
    "ax.plot(violations_by_day.index, violations_by_day['count'], \n",
    "           color='green')\n",
    "ax.set_xlabel('Date')\n",
    "ax.set_ylabel('Violations', color='green')\n",
    "ax.tick_params('y', colors='green')\n",
    "ax2 = ax.twinx()\n",
    "ax2.plot(davidson_cases['month_day'], davidson_cases['cases'],          \n",
    "         color='red')\n",
    "ax2.set_ylabel('Cases', color='red')\n",
    "ax2.tick_params('y', colors='red');"
   ]
  },
  {
   "cell_type": "markdown",
   "metadata": {},
   "source": [
    "### 3-Exploring the number of deaths and cases over time:"
   ]
  },
  {
   "cell_type": "code",
   "execution_count": null,
   "metadata": {},
   "outputs": [],
   "source": [
    "plt.figure(figsize=(20,5))\n",
    "sns.lineplot(data= davidson_cases,x =\"month_day\",y=\"cases\", hue=\"deaths\");"
   ]
  },
  {
   "cell_type": "code",
   "execution_count": null,
   "metadata": {},
   "outputs": [],
   "source": [
    "#plt.figure(figsize=(20,5))\n",
    "#sns.scatterplot(data= davidson_cases,x =\"month_day\",y=\"cases\", hue=\"deaths\")\n",
    "#plt.xticks(rotation = 45);"
   ]
  },
  {
   "cell_type": "code",
   "execution_count": null,
   "metadata": {},
   "outputs": [],
   "source": [
    "fig, ax = plt.subplots(figsize=(9,5))\n",
    "ax.plot(davidson_cases['month_day'], davidson_cases['deaths'], \n",
    "           color='blue')\n",
    "ax.set_xlabel('day')\n",
    "ax.set_ylabel('Deaths', color='blue')\n",
    "ax.tick_params('y', colors='blue')\n",
    "ax2 = ax.twinx()\n",
    "ax2.plot(davidson_cases['month_day'], davidson_cases['cases'],          \n",
    "         color='red')\n",
    "ax2.set_ylabel('Cases', color='red')\n",
    "ax2.tick_params('y', colors='red');"
   ]
  },
  {
   "cell_type": "code",
   "execution_count": null,
   "metadata": {},
   "outputs": [],
   "source": [
    "plt.figure(figsize=(9,5))\n",
    "\n",
    "covid19['month_day_opened'].value_counts().sort_index().plot()\n",
    "\n",
    "sns.lineplot(data= davidson_cases,x =\"month_day\",y=\"cases\");"
   ]
  },
  {
   "cell_type": "markdown",
   "metadata": {},
   "source": [
    "## Part3: The Metro Public Health Department tracks COVID-19 clusters."
   ]
  },
  {
   "cell_type": "markdown",
   "metadata": {},
   "source": [
    "### The files 'clusters.csv' and 'clusters_by_type.csv' contain the tables of clusters as reported by [WSMV](https://www.wsmv.com/news/metro-health-releases-latest-covid-19-clusters/article_ef554e08-1558-11eb-b290-873345e174d7.html) along with the coordinates of the clusters. Can you find any connection between the reported COVID violations and subsequent COVID clusters?"
   ]
  },
  {
   "cell_type": "markdown",
   "metadata": {},
   "source": [
    "### 1-Open cluster file"
   ]
  },
  {
   "cell_type": "code",
   "execution_count": null,
   "metadata": {},
   "outputs": [],
   "source": [
    "cluster_by_type = pd.read_csv(\"../data/clusters_by_type.csv\")\n",
    "                              \n",
    "cluster_by_type.head()"
   ]
  },
  {
   "cell_type": "code",
   "execution_count": null,
   "metadata": {
    "scrolled": true
   },
   "outputs": [],
   "source": [
    "cluster_by_type[\"Cluster Type\"].unique()"
   ]
  },
  {
   "cell_type": "code",
   "execution_count": null,
   "metadata": {},
   "outputs": [],
   "source": [
    "cluster_by_type = cluster_by_type.rename(columns = {\"Cluster Type\":\"facility_type\", \"Number of Clusters\":\"number_clusters\"})"
   ]
  },
  {
   "cell_type": "code",
   "execution_count": null,
   "metadata": {},
   "outputs": [],
   "source": [
    "cluster_by_type.shape"
   ]
  },
  {
   "cell_type": "markdown",
   "metadata": {},
   "source": [
    "### 2-Open cluster file"
   ]
  },
  {
   "cell_type": "code",
   "execution_count": null,
   "metadata": {},
   "outputs": [],
   "source": [
    "cluster = pd.read_csv(\"../data/clusters_revised.csv\")\n",
    "cluster.head()"
   ]
  },
  {
   "cell_type": "code",
   "execution_count": null,
   "metadata": {},
   "outputs": [],
   "source": [
    "cluster[\"Facility Type\"].unique()"
   ]
  },
  {
   "cell_type": "code",
   "execution_count": null,
   "metadata": {},
   "outputs": [],
   "source": [
    "cluster = cluster.rename(columns = {\"Cluster Name\":\"cluster_name\", \"Facility Type\":\"facility_type\",\"Cluster Start Date\":\"cluster_date\", \"# Cases\":\"#_cases\", \"Latitude\":\"latitude\", \"Longitude\":\"longitude\"})"
   ]
  },
  {
   "cell_type": "code",
   "execution_count": null,
   "metadata": {
    "scrolled": true
   },
   "outputs": [],
   "source": [
    "cluster.head()"
   ]
  },
  {
   "cell_type": "code",
   "execution_count": null,
   "metadata": {
    "scrolled": true
   },
   "outputs": [],
   "source": [
    "#drop NaNs values in longitude and latitude columns\n",
    "cluster = cluster.dropna() "
   ]
  },
  {
   "cell_type": "code",
   "execution_count": null,
   "metadata": {},
   "outputs": [],
   "source": [
    "cluster.shape"
   ]
  },
  {
   "cell_type": "code",
   "execution_count": null,
   "metadata": {},
   "outputs": [],
   "source": [
    "# there is a comma before one longitude coordinate and I need to remove it and I'm using strip (not anymore with the revised file)\n",
    "#cluster[\"longitude\"] = cluster[\"longitude\"].str.strip(\",\")"
   ]
  },
  {
   "cell_type": "code",
   "execution_count": null,
   "metadata": {},
   "outputs": [],
   "source": [
    "# convert Longitude object to a float\n",
    "#cluster[\"longitude\"] = cluster.longitude.astype(float)"
   ]
  },
  {
   "cell_type": "markdown",
   "metadata": {},
   "source": [
    "### 3-Merge cluster and cluster by type (NB: there is more categories in cluster by type so I will merge it on the cluster df)"
   ]
  },
  {
   "cell_type": "code",
   "execution_count": null,
   "metadata": {},
   "outputs": [],
   "source": [
    "cluster_merge = cluster.merge(cluster_by_type, on=\"facility_type\", how=\"left\")"
   ]
  },
  {
   "cell_type": "code",
   "execution_count": null,
   "metadata": {
    "scrolled": true
   },
   "outputs": [],
   "source": [
    "cluster_merge.shape"
   ]
  },
  {
   "cell_type": "markdown",
   "metadata": {},
   "source": [
    "### 4-Make the geometry column for geospatial:"
   ]
  },
  {
   "cell_type": "code",
   "execution_count": null,
   "metadata": {
    "scrolled": true
   },
   "outputs": [],
   "source": [
    "cluster_merge['geometry'] = cluster_merge.apply(lambda x: Point((float(x.longitude), \n",
    "                                                         float(x.latitude))), \n",
    "                                        axis=1)\n",
    "cluster_merge.head(3)"
   ]
  },
  {
   "cell_type": "markdown",
   "metadata": {},
   "source": [
    "### 5-Add davidson county with zipcodes"
   ]
  },
  {
   "cell_type": "code",
   "execution_count": null,
   "metadata": {},
   "outputs": [],
   "source": [
    "zipcodes = gpd.read_file('../data/zipcodes.geojson')\n",
    "print(zipcodes.crs)\n",
    "zipcodes.head( )"
   ]
  },
  {
   "cell_type": "code",
   "execution_count": null,
   "metadata": {},
   "outputs": [],
   "source": [
    "zipcodes.plot();"
   ]
  },
  {
   "cell_type": "code",
   "execution_count": null,
   "metadata": {},
   "outputs": [],
   "source": [
    "zipcodes.crs"
   ]
  },
  {
   "cell_type": "markdown",
   "metadata": {},
   "source": [
    "### 6-Make the geodataframe for cluster file and make a map:"
   ]
  },
  {
   "cell_type": "code",
   "execution_count": null,
   "metadata": {},
   "outputs": [],
   "source": [
    "cluster_merge_geo = gpd.GeoDataFrame(cluster_merge, \n",
    "                           crs = zipcodes.crs, \n",
    "                           geometry = cluster_merge['geometry'])"
   ]
  },
  {
   "cell_type": "code",
   "execution_count": null,
   "metadata": {},
   "outputs": [],
   "source": [
    "ax = zipcodes.plot(figsize = (10, 10), color = 'white', edgecolor = 'lightgrey')\n",
    "\n",
    "sns.scatterplot(data=cluster_merge, x=\"longitude\", y=\"latitude\", hue=\"#_cases\", palette=\"mako_r\", size=\"#_cases\", sizes=(10, 200), edgecolor = 'black');"
   ]
  },
  {
   "cell_type": "markdown",
   "metadata": {},
   "source": [
    "### 7-Convert the covid19 violation file into a geodataframe:"
   ]
  },
  {
   "cell_type": "code",
   "execution_count": null,
   "metadata": {},
   "outputs": [],
   "source": [
    "#drop NaNs values in longitude and latitude columns\n",
    "covid19 = covid19.dropna() "
   ]
  },
  {
   "cell_type": "code",
   "execution_count": null,
   "metadata": {},
   "outputs": [],
   "source": [
    "covid19['geometry'] = covid19.apply(lambda x: Point((float(x.longitude), \n",
    "                                                         float(x.latitude))), \n",
    "                                        axis=1)\n",
    "covid19.head(3)"
   ]
  },
  {
   "cell_type": "code",
   "execution_count": null,
   "metadata": {},
   "outputs": [],
   "source": [
    "covid19_geo = gpd.GeoDataFrame(covid19, \n",
    "                           crs = zipcodes.crs, \n",
    "                           geometry = covid19['geometry'])"
   ]
  },
  {
   "cell_type": "code",
   "execution_count": null,
   "metadata": {
    "scrolled": true
   },
   "outputs": [],
   "source": [
    "ax = zipcodes.plot(figsize = (10, 10), color = 'white', edgecolor = 'lightgrey')\n",
    "\n",
    "sns.scatterplot(data=covid19_geo, x=\"longitude\", y=\"latitude\", hue=\"case_request\",palette=\"Set1\");\n",
    "\n",
    "#sns.scatterplot(data=cluster_merge_geo, x=\"longitude\", y=\"latitude\", hue=\"#_cases\", palette=\"mako_r\", size=\"#_cases\", sizes=(10, 200), edgecolor = 'black');"
   ]
  },
  {
   "cell_type": "markdown",
   "metadata": {},
   "source": [
    "### Making a heat map:"
   ]
  },
  {
   "cell_type": "code",
   "execution_count": null,
   "metadata": {},
   "outputs": [],
   "source": [
    "covid19_merge = (covid19\n",
    "          .drop(columns = 'geometry')\n",
    "          .rename(columns = {'incident_zip_code': 'zip'})\n",
    "         )"
   ]
  },
  {
   "cell_type": "code",
   "execution_count": null,
   "metadata": {},
   "outputs": [],
   "source": [
    "# zip was a float\n",
    "covid19_merge['zip'] = covid19_merge['zip'].astype(int)"
   ]
  },
  {
   "cell_type": "code",
   "execution_count": null,
   "metadata": {},
   "outputs": [],
   "source": [
    "# to get the count per zipcode\n",
    "covid19_merge_gpby = covid19_merge.groupby(\"zip\")[\"closed_when_created\"].agg('count')\n",
    "covid19_merge_gpby.head()"
   ]
  },
  {
   "cell_type": "code",
   "execution_count": null,
   "metadata": {},
   "outputs": [],
   "source": [
    "covid19_merge_gpby = covid19_merge_gpby.to_frame()"
   ]
  },
  {
   "cell_type": "code",
   "execution_count": null,
   "metadata": {},
   "outputs": [],
   "source": [
    "covid19_merge_gpby = covid19_merge_gpby.reset_index()"
   ]
  },
  {
   "cell_type": "code",
   "execution_count": null,
   "metadata": {},
   "outputs": [],
   "source": [
    "covid19_merge_gpby.head()"
   ]
  },
  {
   "cell_type": "code",
   "execution_count": null,
   "metadata": {},
   "outputs": [],
   "source": [
    "zipcodes['zip'] = zipcodes['zip'].astype(int)"
   ]
  },
  {
   "cell_type": "code",
   "execution_count": null,
   "metadata": {},
   "outputs": [],
   "source": [
    "zipcodes_covid19_merge = pd.merge(left = covid19_merge, right = zipcodes)"
   ]
  },
  {
   "cell_type": "code",
   "execution_count": null,
   "metadata": {
    "scrolled": false
   },
   "outputs": [],
   "source": [
    "zipcodes_covid19_merge.head(2)"
   ]
  },
  {
   "cell_type": "code",
   "execution_count": null,
   "metadata": {},
   "outputs": [],
   "source": [
    "zipcodes_covid19_merge_gpby = zipcodes.merge(covid19_merge_gpby, on=\"zip\", how=\"outer\")"
   ]
  },
  {
   "cell_type": "code",
   "execution_count": null,
   "metadata": {
    "scrolled": true
   },
   "outputs": [],
   "source": [
    "zipcodes_covid19_merge_gpby.head()"
   ]
  },
  {
   "cell_type": "code",
   "execution_count": null,
   "metadata": {},
   "outputs": [],
   "source": [
    "zipcodes_covid19_merge_gpby['closed_when_created'] = zipcodes_covid19_merge_gpby['closed_when_created'].fillna(0)"
   ]
  },
  {
   "cell_type": "code",
   "execution_count": null,
   "metadata": {},
   "outputs": [],
   "source": [
    "zipcodes_covid19_merge_gpby['closed_when_created'] = zipcodes_covid19_merge_gpby['closed_when_created'].astype(int)"
   ]
  },
  {
   "cell_type": "code",
   "execution_count": null,
   "metadata": {
    "scrolled": true
   },
   "outputs": [],
   "source": [
    "#Heat map of covid violations per zipcodes in davidson county\n",
    "\n",
    "fig, ax = plt.subplots(figsize=(10,10))\n",
    "zipcodes_covid19_merge_gpby.plot(column = 'closed_when_created', \n",
    "                                 cmap = 'Reds', \n",
    "                                 edgecolor = 'black', \n",
    "                                 legend = True,\n",
    "                                 ax = ax);"
   ]
  },
  {
   "cell_type": "markdown",
   "metadata": {},
   "source": [
    "### 8-Map covid-19 violations and clusters cases on the davidson shape map:"
   ]
  },
  {
   "cell_type": "code",
   "execution_count": null,
   "metadata": {
    "scrolled": true
   },
   "outputs": [],
   "source": [
    "ax = zipcodes.plot(figsize = (10, 10), color = 'white', edgecolor = 'lightgrey')\n",
    "\n",
    "sns.scatterplot(data=covid19_geo, x=\"longitude\", y=\"latitude\", hue=\"case_request\",palette=\"Set1\");\n",
    "\n",
    "sns.scatterplot(data=cluster_merge_geo, x=\"longitude\", y=\"latitude\", hue=\"#_cases\", palette=\"mako_r\", size=\"#_cases\", sizes=(10, 200), edgecolor = 'black');"
   ]
  },
  {
   "cell_type": "markdown",
   "metadata": {},
   "source": [
    "## Use Folium"
   ]
  },
  {
   "cell_type": "code",
   "execution_count": null,
   "metadata": {},
   "outputs": [],
   "source": [
    "#zipcodes.geometry.centroid"
   ]
  },
  {
   "cell_type": "code",
   "execution_count": null,
   "metadata": {},
   "outputs": [],
   "source": [
    "center = zipcodes.geometry.centroid[1]\n",
    "print(center)"
   ]
  },
  {
   "cell_type": "code",
   "execution_count": null,
   "metadata": {},
   "outputs": [],
   "source": [
    "# reverse the order when constructing the array for folium location\n",
    "area_center = [center.y, center.x]\n",
    "\n",
    "# check the order of area_center, the location for our folium map\n",
    "print(area_center)"
   ]
  },
  {
   "cell_type": "markdown",
   "metadata": {},
   "source": [
    "### 1- Map of the # of covid19 positive cases per day in davidson county:"
   ]
  },
  {
   "cell_type": "code",
   "execution_count": null,
   "metadata": {},
   "outputs": [],
   "source": [
    "#draw zipcode area\n",
    "map_davidson = folium.Map(location =  area_center, zoom_start = 12)\n",
    "\n",
    "\n",
    "#iterate through clusters to create locations and markers \n",
    "#remember for Folium locations, lat is listed first!!\n",
    "\n",
    "for row_index, row_values in cluster_merge_geo.iterrows():\n",
    "    loc = [row_values['latitude'], row_values['longitude']]\n",
    "    pop = str(row_values['#_cases'])\n",
    "    marker = folium.Marker(\n",
    "        location = loc, \n",
    "        popup = pop,\n",
    "        icon= folium.Icon(color=\"blue\",icon_color='white',icon = \"certificate\")) \n",
    "    \n",
    "    marker.add_to(map_davidson)\n",
    "#map_davidson.save('../maps/map_davidson.html')\n",
    "\n",
    "\n",
    "#display our map\n",
    "map_davidson"
   ]
  },
  {
   "cell_type": "code",
   "execution_count": null,
   "metadata": {},
   "outputs": [],
   "source": [
    "cluster_merge_geo.facility_type.unique()"
   ]
  },
  {
   "cell_type": "code",
   "execution_count": null,
   "metadata": {},
   "outputs": [],
   "source": [
    "# (Map will be centered at those co-ordinates)\n",
    "map = folium.Map(location=[36.148465, -86.767960], default_zoom_start=10)\n",
    "\n",
    "#Icon should be one of: {'darkred', 'lightred', 'pink', 'gray', 'lightblue', 'blue', 'red', 'lightgreen', 'darkblue' \n",
    "#, 'cadetblue', 'beige', 'green', 'lightgray', 'white', 'black', 'purple', 'orange', 'darkgreen', 'darkpurple'}.\n",
    "\n",
    "# Function to change the marker color  \n",
    "def color(facility): \n",
    "    if facility == 'Social Gathering': \n",
    "        col = 'orange'\n",
    "    elif facility == 'LTCF': \n",
    "        col = 'green'\n",
    "    elif facility == 'Commercial-Warehouse': \n",
    "        col = 'darkblue'\n",
    "    elif facility == 'Congregate Living': \n",
    "        col = 'lightgreen'\n",
    "    elif facility == 'Construction': \n",
    "        col = 'red'\n",
    "    elif facility == 'Correctional Facility': \n",
    "        col = 'black'\n",
    "    elif facility == 'Bar': \n",
    "        col = 'blue'\n",
    "    elif facility == 'Restaurant': \n",
    "        col = 'lightgblue'\n",
    "    elif facility == 'Office': \n",
    "        col = 'gray'\n",
    "    elif facility == 'Church': \n",
    "        col = 'pink'\n",
    "    elif facility == 'Gym': \n",
    "        col = 'purple'\n",
    "    else: \n",
    "        col='white'\n",
    "    return col\n",
    "\n",
    "for row_index, row_values in cluster_merge_geo.iterrows():\n",
    "    loc = [row_values['latitude'], row_values['longitude']]\n",
    "    pop = str(row_values['facility_type'])\n",
    "    marker = folium.Marker(\n",
    "        location = loc, \n",
    "        popup = pop,\n",
    "        icon= folium.Icon(color=color(facility), \n",
    "                  icon_color='lightgray',icon = 'certificate')) \n",
    "    \n",
    "    marker.add_to(map_davidson)\n",
    "#map_davidson.save('../maps/map_davidson.html')\n",
    "\n",
    "\n",
    "#display our map\n",
    "map_davidson"
   ]
  },
  {
   "cell_type": "code",
   "execution_count": null,
   "metadata": {},
   "outputs": [],
   "source": [
    "map = folium.Map(location=[36.148465, -86.767960], default_zoom_start=50) # from Kedir\n",
    "map"
   ]
  },
  {
   "cell_type": "markdown",
   "metadata": {},
   "source": [
    "### 2- Map of covid19 violations reported per day in davidson county:"
   ]
  },
  {
   "cell_type": "code",
   "execution_count": null,
   "metadata": {},
   "outputs": [],
   "source": [
    "#draw zipcode area\n",
    "map_davidson = folium.Map(location =  area_center, zoom_start = 12)\n",
    "\n",
    "#folium.GeoJson(zipcodes).add_to(map_davidson)\n",
    "\n",
    "#iterate through #_cases to create locations and markers for covid cluster\n",
    "#remember for Folium locations, lat is listed first!!\n",
    "\n",
    "for row_index, row_values in covid19_geo.iterrows():\n",
    "    loc = [row_values['latitude'], row_values['longitude']]\n",
    "    pop = str(row_values['case_request'])\n",
    "    marker = folium.Marker(\n",
    "        location = loc, \n",
    "        popup = pop,\n",
    "        icon= folium.Icon(color=\"red\",icon_color='white',icon = \"hand-down\")) \n",
    "    \n",
    "    marker.add_to(map_davidson)\n",
    "#map_davidson.save('../maps/map_davidson.html')\n",
    "\n",
    "#display our map\n",
    "map_davidson"
   ]
  },
  {
   "cell_type": "code",
   "execution_count": null,
   "metadata": {
    "scrolled": true
   },
   "outputs": [],
   "source": [
    "#draw our zip code area: 37207\n",
    "map_davidson = folium.Map(location =  area_center, zoom_start = 12)\n",
    "\n",
    "#folium.GeoJson(zipcodes).add_to(map_davidson)\n",
    "\n",
    "#create a list of locations and pass them to FastMarkerCluster()\n",
    "locations = covid19_geo[['latitude', 'longitude']].values.tolist()\n",
    "map_davidson.add_child(\n",
    "    FastMarkerCluster(locations)\n",
    ")\n",
    "\n",
    "#display our map\n",
    "map_davidson"
   ]
  },
  {
   "cell_type": "markdown",
   "metadata": {},
   "source": [
    "## Part 4:"
   ]
  },
  {
   "cell_type": "code",
   "execution_count": null,
   "metadata": {},
   "outputs": [],
   "source": [
    "import glob\n",
    "from pandas.io.json import json_normalize"
   ]
  },
  {
   "cell_type": "code",
   "execution_count": null,
   "metadata": {},
   "outputs": [],
   "source": [
    "google_results = pd.DataFrame() #create empty dataframe\n",
    "for filename in glob.glob('../data/google_places_results/*.json'): # loop over .json files\n",
    "    with open(filename) as f:\n",
    "        google_files = json.load(f) # open the json file\n",
    "        google_jsons = pd.json_normalize(google_files, sep='_', #normalize the json file for nested results\n",
    "                            record_path='results')\n",
    "        google_results = google_results.append(google_jsons) #append each json file results to df"
   ]
  },
  {
   "cell_type": "code",
   "execution_count": null,
   "metadata": {},
   "outputs": [],
   "source": []
  },
  {
   "cell_type": "code",
   "execution_count": null,
   "metadata": {},
   "outputs": [],
   "source": []
  },
  {
   "cell_type": "code",
   "execution_count": null,
   "metadata": {},
   "outputs": [],
   "source": []
  },
  {
   "cell_type": "code",
   "execution_count": null,
   "metadata": {},
   "outputs": [],
   "source": []
  }
 ],
 "metadata": {
  "kernelspec": {
   "display_name": "Python 3",
   "language": "python",
   "name": "python3"
  },
  "language_info": {
   "codemirror_mode": {
    "name": "ipython",
    "version": 3
   },
   "file_extension": ".py",
   "mimetype": "text/x-python",
   "name": "python",
   "nbconvert_exporter": "python",
   "pygments_lexer": "ipython3",
   "version": "3.7.3"
  }
 },
 "nbformat": 4,
 "nbformat_minor": 2
}
