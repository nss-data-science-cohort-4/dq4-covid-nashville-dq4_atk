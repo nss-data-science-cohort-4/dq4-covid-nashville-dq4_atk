{
 "cells": [
  {
   "cell_type": "code",
   "execution_count": 1,
   "metadata": {},
   "outputs": [],
   "source": [
    "import json \n",
    "import requests\n",
    "import pandas as pd\n",
    "import numpy as np"
   ]
  },
  {
   "cell_type": "code",
   "execution_count": 2,
   "metadata": {},
   "outputs": [],
   "source": [
    "url = 'https://data.nashville.gov/resource/7qhx-rexh.json?case_request=COVID-19&$limit=2000'\n",
    "\n",
    "response = requests.get(url) "
   ]
  },
  {
   "cell_type": "code",
   "execution_count": 3,
   "metadata": {},
   "outputs": [],
   "source": [
    "violation = pd.read_json(response.text)"
   ]
  },
  {
   "cell_type": "code",
   "execution_count": 4,
   "metadata": {},
   "outputs": [
    {
     "name": "stdout",
     "output_type": "stream",
     "text": [
      "<class 'pandas.core.frame.DataFrame'>\n",
      "RangeIndex: 2000 entries, 0 to 1999\n",
      "Data columns (total 18 columns):\n",
      " #   Column                     Non-Null Count  Dtype  \n",
      "---  ------                     --------------  -----  \n",
      " 0   case_number                2000 non-null   int64  \n",
      " 1   status                     2000 non-null   object \n",
      " 2   case_request               2000 non-null   object \n",
      " 3   case_subrequest            2000 non-null   object \n",
      " 4   additional_subrequest      1999 non-null   object \n",
      " 5   date_time_opened           2000 non-null   object \n",
      " 6   date_time_closed           1979 non-null   object \n",
      " 7   case_origin                2000 non-null   object \n",
      " 8   state_issue                2000 non-null   object \n",
      " 9   closed_when_created        2000 non-null   object \n",
      " 10  incident_address           1525 non-null   object \n",
      " 11  incident_city              1466 non-null   object \n",
      " 12  incident_council_district  1466 non-null   float64\n",
      " 13  incident_zip_code          1466 non-null   float64\n",
      " 14  latitude                   1525 non-null   float64\n",
      " 15  longitude                  1525 non-null   float64\n",
      " 16  mapped_location            1525 non-null   object \n",
      " 17  contact_type               7 non-null      object \n",
      "dtypes: float64(4), int64(1), object(13)\n",
      "memory usage: 281.4+ KB\n"
     ]
    }
   ],
   "source": [
    "violation.info()"
   ]
  },
  {
   "cell_type": "code",
   "execution_count": 5,
   "metadata": {},
   "outputs": [
    {
     "data": {
      "text/plain": [
       "array(['COVID-19'], dtype=object)"
      ]
     },
     "execution_count": 5,
     "metadata": {},
     "output_type": "execute_result"
    }
   ],
   "source": [
    "violation['case_request'].unique()\n"
   ]
  },
  {
   "cell_type": "code",
   "execution_count": 6,
   "metadata": {},
   "outputs": [
    {
     "data": {
      "text/plain": [
       "array(['COVID-19 Questions', 'COVID-19 Violations',\n",
       "       'COVID-19 - Submit Input about The Plan to Reopen Nashville',\n",
       "       'COVID-19 Guidance for Reopening Businesses'], dtype=object)"
      ]
     },
     "execution_count": 6,
     "metadata": {},
     "output_type": "execute_result"
    }
   ],
   "source": [
    "violation['case_subrequest'].unique()"
   ]
  },
  {
   "cell_type": "code",
   "execution_count": 7,
   "metadata": {},
   "outputs": [],
   "source": [
    "#covid=violation[(violation['case_request']=='Resolved by hubNashville on First Call') |(violation['case_subrequest']=='Resolved by hubNashville on First Call')]"
   ]
  },
  {
   "cell_type": "code",
   "execution_count": 8,
   "metadata": {},
   "outputs": [
    {
     "data": {
      "text/html": [
       "<div>\n",
       "<style scoped>\n",
       "    .dataframe tbody tr th:only-of-type {\n",
       "        vertical-align: middle;\n",
       "    }\n",
       "\n",
       "    .dataframe tbody tr th {\n",
       "        vertical-align: top;\n",
       "    }\n",
       "\n",
       "    .dataframe thead th {\n",
       "        text-align: right;\n",
       "    }\n",
       "</style>\n",
       "<table border=\"1\" class=\"dataframe\">\n",
       "  <thead>\n",
       "    <tr style=\"text-align: right;\">\n",
       "      <th></th>\n",
       "      <th>case_number</th>\n",
       "      <th>status</th>\n",
       "      <th>case_request</th>\n",
       "      <th>case_subrequest</th>\n",
       "      <th>additional_subrequest</th>\n",
       "      <th>date_time_opened</th>\n",
       "      <th>date_time_closed</th>\n",
       "      <th>case_origin</th>\n",
       "      <th>state_issue</th>\n",
       "      <th>closed_when_created</th>\n",
       "      <th>incident_address</th>\n",
       "      <th>incident_city</th>\n",
       "      <th>incident_council_district</th>\n",
       "      <th>incident_zip_code</th>\n",
       "      <th>latitude</th>\n",
       "      <th>longitude</th>\n",
       "      <th>mapped_location</th>\n",
       "      <th>contact_type</th>\n",
       "    </tr>\n",
       "  </thead>\n",
       "  <tbody>\n",
       "    <tr>\n",
       "      <th>0</th>\n",
       "      <td>495423</td>\n",
       "      <td>Closed</td>\n",
       "      <td>COVID-19</td>\n",
       "      <td>COVID-19 Questions</td>\n",
       "      <td>COVID-19 Questions</td>\n",
       "      <td>2020-11-04T19:41:57.000</td>\n",
       "      <td>2020-11-04T21:41:21.000</td>\n",
       "      <td>Phone</td>\n",
       "      <td>False</td>\n",
       "      <td>False</td>\n",
       "      <td>3066 Lincoya Bay Dr</td>\n",
       "      <td>NASHVILLE</td>\n",
       "      <td>14.0</td>\n",
       "      <td>37214.0</td>\n",
       "      <td>36.144970</td>\n",
       "      <td>-86.624130</td>\n",
       "      <td>{'latitude': '36.14497', 'longitude': '-86.624...</td>\n",
       "      <td>NaN</td>\n",
       "    </tr>\n",
       "    <tr>\n",
       "      <th>1</th>\n",
       "      <td>495545</td>\n",
       "      <td>New</td>\n",
       "      <td>COVID-19</td>\n",
       "      <td>COVID-19 Violations</td>\n",
       "      <td>COVID-19 Violations</td>\n",
       "      <td>2020-11-04T21:27:30.000</td>\n",
       "      <td>NaN</td>\n",
       "      <td>hubNashville Community</td>\n",
       "      <td>False</td>\n",
       "      <td>False</td>\n",
       "      <td>2612 Lebanon Pike</td>\n",
       "      <td>NASHVILLE</td>\n",
       "      <td>15.0</td>\n",
       "      <td>37214.0</td>\n",
       "      <td>36.170223</td>\n",
       "      <td>-86.673428</td>\n",
       "      <td>{'latitude': '36.1702228', 'longitude': '-86.6...</td>\n",
       "      <td>NaN</td>\n",
       "    </tr>\n",
       "    <tr>\n",
       "      <th>2</th>\n",
       "      <td>495548</td>\n",
       "      <td>New</td>\n",
       "      <td>COVID-19</td>\n",
       "      <td>COVID-19 Violations</td>\n",
       "      <td>COVID-19 Violations</td>\n",
       "      <td>2020-11-04T21:31:04.000</td>\n",
       "      <td>NaN</td>\n",
       "      <td>hubNashville Community</td>\n",
       "      <td>False</td>\n",
       "      <td>False</td>\n",
       "      <td>130 W Trinity Ln</td>\n",
       "      <td>NASHVILLE</td>\n",
       "      <td>5.0</td>\n",
       "      <td>37207.0</td>\n",
       "      <td>36.205655</td>\n",
       "      <td>-86.772439</td>\n",
       "      <td>{'latitude': '36.2056553', 'longitude': '-86.7...</td>\n",
       "      <td>NaN</td>\n",
       "    </tr>\n",
       "    <tr>\n",
       "      <th>3</th>\n",
       "      <td>494661</td>\n",
       "      <td>Closed</td>\n",
       "      <td>COVID-19</td>\n",
       "      <td>COVID-19 Violations</td>\n",
       "      <td>COVID-19 Violations</td>\n",
       "      <td>2020-11-03T20:19:45.000</td>\n",
       "      <td>2020-11-04T15:00:35.000</td>\n",
       "      <td>hubNashville Community</td>\n",
       "      <td>False</td>\n",
       "      <td>False</td>\n",
       "      <td>3441 Lebanon Pike</td>\n",
       "      <td>HERMITAGE</td>\n",
       "      <td>14.0</td>\n",
       "      <td>37076.0</td>\n",
       "      <td>36.189819</td>\n",
       "      <td>-86.624601</td>\n",
       "      <td>{'latitude': '36.18981867780618', 'longitude':...</td>\n",
       "      <td>NaN</td>\n",
       "    </tr>\n",
       "    <tr>\n",
       "      <th>4</th>\n",
       "      <td>495261</td>\n",
       "      <td>Closed</td>\n",
       "      <td>COVID-19</td>\n",
       "      <td>COVID-19 Questions</td>\n",
       "      <td>COVID-19 Questions</td>\n",
       "      <td>2020-11-04T17:43:15.000</td>\n",
       "      <td>2020-11-04T18:05:51.000</td>\n",
       "      <td>Phone</td>\n",
       "      <td>False</td>\n",
       "      <td>False</td>\n",
       "      <td>NaN</td>\n",
       "      <td>NaN</td>\n",
       "      <td>NaN</td>\n",
       "      <td>NaN</td>\n",
       "      <td>NaN</td>\n",
       "      <td>NaN</td>\n",
       "      <td>NaN</td>\n",
       "      <td>NaN</td>\n",
       "    </tr>\n",
       "    <tr>\n",
       "      <th>...</th>\n",
       "      <td>...</td>\n",
       "      <td>...</td>\n",
       "      <td>...</td>\n",
       "      <td>...</td>\n",
       "      <td>...</td>\n",
       "      <td>...</td>\n",
       "      <td>...</td>\n",
       "      <td>...</td>\n",
       "      <td>...</td>\n",
       "      <td>...</td>\n",
       "      <td>...</td>\n",
       "      <td>...</td>\n",
       "      <td>...</td>\n",
       "      <td>...</td>\n",
       "      <td>...</td>\n",
       "      <td>...</td>\n",
       "      <td>...</td>\n",
       "      <td>...</td>\n",
       "    </tr>\n",
       "    <tr>\n",
       "      <th>1995</th>\n",
       "      <td>456114</td>\n",
       "      <td>Closed</td>\n",
       "      <td>COVID-19</td>\n",
       "      <td>COVID-19 Questions</td>\n",
       "      <td>COVID-19 Questions</td>\n",
       "      <td>2020-09-01T15:37:16.000</td>\n",
       "      <td>2020-09-09T13:48:55.000</td>\n",
       "      <td>hubNashville Community</td>\n",
       "      <td>False</td>\n",
       "      <td>False</td>\n",
       "      <td>NaN</td>\n",
       "      <td>NaN</td>\n",
       "      <td>NaN</td>\n",
       "      <td>NaN</td>\n",
       "      <td>NaN</td>\n",
       "      <td>NaN</td>\n",
       "      <td>NaN</td>\n",
       "      <td>NaN</td>\n",
       "    </tr>\n",
       "    <tr>\n",
       "      <th>1996</th>\n",
       "      <td>456086</td>\n",
       "      <td>Closed</td>\n",
       "      <td>COVID-19</td>\n",
       "      <td>COVID-19 Questions</td>\n",
       "      <td>COVID-19 Questions</td>\n",
       "      <td>2020-09-01T15:16:49.000</td>\n",
       "      <td>2020-09-09T14:52:07.000</td>\n",
       "      <td>Phone</td>\n",
       "      <td>False</td>\n",
       "      <td>False</td>\n",
       "      <td>NaN</td>\n",
       "      <td>NaN</td>\n",
       "      <td>NaN</td>\n",
       "      <td>NaN</td>\n",
       "      <td>NaN</td>\n",
       "      <td>NaN</td>\n",
       "      <td>NaN</td>\n",
       "      <td>NaN</td>\n",
       "    </tr>\n",
       "    <tr>\n",
       "      <th>1997</th>\n",
       "      <td>456563</td>\n",
       "      <td>Closed</td>\n",
       "      <td>COVID-19</td>\n",
       "      <td>COVID-19 Questions</td>\n",
       "      <td>COVID-19 Questions</td>\n",
       "      <td>2020-09-01T22:11:55.000</td>\n",
       "      <td>2020-09-09T13:58:40.000</td>\n",
       "      <td>hubNashville Community</td>\n",
       "      <td>False</td>\n",
       "      <td>False</td>\n",
       "      <td>NaN</td>\n",
       "      <td>NaN</td>\n",
       "      <td>NaN</td>\n",
       "      <td>NaN</td>\n",
       "      <td>NaN</td>\n",
       "      <td>NaN</td>\n",
       "      <td>NaN</td>\n",
       "      <td>NaN</td>\n",
       "    </tr>\n",
       "    <tr>\n",
       "      <th>1998</th>\n",
       "      <td>456142</td>\n",
       "      <td>Closed</td>\n",
       "      <td>COVID-19</td>\n",
       "      <td>COVID-19 Questions</td>\n",
       "      <td>COVID-19 Questions</td>\n",
       "      <td>2020-09-01T15:54:41.000</td>\n",
       "      <td>2020-09-09T14:14:39.000</td>\n",
       "      <td>hubNashville Community</td>\n",
       "      <td>False</td>\n",
       "      <td>False</td>\n",
       "      <td>NaN</td>\n",
       "      <td>NaN</td>\n",
       "      <td>NaN</td>\n",
       "      <td>NaN</td>\n",
       "      <td>NaN</td>\n",
       "      <td>NaN</td>\n",
       "      <td>NaN</td>\n",
       "      <td>NaN</td>\n",
       "    </tr>\n",
       "    <tr>\n",
       "      <th>1999</th>\n",
       "      <td>456204</td>\n",
       "      <td>Closed</td>\n",
       "      <td>COVID-19</td>\n",
       "      <td>COVID-19 Questions</td>\n",
       "      <td>COVID-19 Questions</td>\n",
       "      <td>2020-09-01T16:45:48.000</td>\n",
       "      <td>2020-09-09T13:46:10.000</td>\n",
       "      <td>hubNashville Community</td>\n",
       "      <td>False</td>\n",
       "      <td>False</td>\n",
       "      <td>NaN</td>\n",
       "      <td>NaN</td>\n",
       "      <td>NaN</td>\n",
       "      <td>NaN</td>\n",
       "      <td>NaN</td>\n",
       "      <td>NaN</td>\n",
       "      <td>NaN</td>\n",
       "      <td>NaN</td>\n",
       "    </tr>\n",
       "  </tbody>\n",
       "</table>\n",
       "<p>2000 rows × 18 columns</p>\n",
       "</div>"
      ],
      "text/plain": [
       "      case_number  status case_request      case_subrequest  \\\n",
       "0          495423  Closed     COVID-19   COVID-19 Questions   \n",
       "1          495545     New     COVID-19  COVID-19 Violations   \n",
       "2          495548     New     COVID-19  COVID-19 Violations   \n",
       "3          494661  Closed     COVID-19  COVID-19 Violations   \n",
       "4          495261  Closed     COVID-19   COVID-19 Questions   \n",
       "...           ...     ...          ...                  ...   \n",
       "1995       456114  Closed     COVID-19   COVID-19 Questions   \n",
       "1996       456086  Closed     COVID-19   COVID-19 Questions   \n",
       "1997       456563  Closed     COVID-19   COVID-19 Questions   \n",
       "1998       456142  Closed     COVID-19   COVID-19 Questions   \n",
       "1999       456204  Closed     COVID-19   COVID-19 Questions   \n",
       "\n",
       "     additional_subrequest         date_time_opened         date_time_closed  \\\n",
       "0       COVID-19 Questions  2020-11-04T19:41:57.000  2020-11-04T21:41:21.000   \n",
       "1      COVID-19 Violations  2020-11-04T21:27:30.000                      NaN   \n",
       "2      COVID-19 Violations  2020-11-04T21:31:04.000                      NaN   \n",
       "3      COVID-19 Violations  2020-11-03T20:19:45.000  2020-11-04T15:00:35.000   \n",
       "4       COVID-19 Questions  2020-11-04T17:43:15.000  2020-11-04T18:05:51.000   \n",
       "...                    ...                      ...                      ...   \n",
       "1995    COVID-19 Questions  2020-09-01T15:37:16.000  2020-09-09T13:48:55.000   \n",
       "1996    COVID-19 Questions  2020-09-01T15:16:49.000  2020-09-09T14:52:07.000   \n",
       "1997    COVID-19 Questions  2020-09-01T22:11:55.000  2020-09-09T13:58:40.000   \n",
       "1998    COVID-19 Questions  2020-09-01T15:54:41.000  2020-09-09T14:14:39.000   \n",
       "1999    COVID-19 Questions  2020-09-01T16:45:48.000  2020-09-09T13:46:10.000   \n",
       "\n",
       "                 case_origin state_issue closed_when_created  \\\n",
       "0                      Phone       False               False   \n",
       "1     hubNashville Community       False               False   \n",
       "2     hubNashville Community       False               False   \n",
       "3     hubNashville Community       False               False   \n",
       "4                      Phone       False               False   \n",
       "...                      ...         ...                 ...   \n",
       "1995  hubNashville Community       False               False   \n",
       "1996                   Phone       False               False   \n",
       "1997  hubNashville Community       False               False   \n",
       "1998  hubNashville Community       False               False   \n",
       "1999  hubNashville Community       False               False   \n",
       "\n",
       "         incident_address incident_city  incident_council_district  \\\n",
       "0     3066 Lincoya Bay Dr     NASHVILLE                       14.0   \n",
       "1       2612 Lebanon Pike     NASHVILLE                       15.0   \n",
       "2        130 W Trinity Ln     NASHVILLE                        5.0   \n",
       "3       3441 Lebanon Pike     HERMITAGE                       14.0   \n",
       "4                     NaN           NaN                        NaN   \n",
       "...                   ...           ...                        ...   \n",
       "1995                  NaN           NaN                        NaN   \n",
       "1996                  NaN           NaN                        NaN   \n",
       "1997                  NaN           NaN                        NaN   \n",
       "1998                  NaN           NaN                        NaN   \n",
       "1999                  NaN           NaN                        NaN   \n",
       "\n",
       "      incident_zip_code   latitude  longitude  \\\n",
       "0               37214.0  36.144970 -86.624130   \n",
       "1               37214.0  36.170223 -86.673428   \n",
       "2               37207.0  36.205655 -86.772439   \n",
       "3               37076.0  36.189819 -86.624601   \n",
       "4                   NaN        NaN        NaN   \n",
       "...                 ...        ...        ...   \n",
       "1995                NaN        NaN        NaN   \n",
       "1996                NaN        NaN        NaN   \n",
       "1997                NaN        NaN        NaN   \n",
       "1998                NaN        NaN        NaN   \n",
       "1999                NaN        NaN        NaN   \n",
       "\n",
       "                                        mapped_location contact_type  \n",
       "0     {'latitude': '36.14497', 'longitude': '-86.624...          NaN  \n",
       "1     {'latitude': '36.1702228', 'longitude': '-86.6...          NaN  \n",
       "2     {'latitude': '36.2056553', 'longitude': '-86.7...          NaN  \n",
       "3     {'latitude': '36.18981867780618', 'longitude':...          NaN  \n",
       "4                                                   NaN          NaN  \n",
       "...                                                 ...          ...  \n",
       "1995                                                NaN          NaN  \n",
       "1996                                                NaN          NaN  \n",
       "1997                                                NaN          NaN  \n",
       "1998                                                NaN          NaN  \n",
       "1999                                                NaN          NaN  \n",
       "\n",
       "[2000 rows x 18 columns]"
      ]
     },
     "execution_count": 8,
     "metadata": {},
     "output_type": "execute_result"
    }
   ],
   "source": [
    "violation"
   ]
  },
  {
   "cell_type": "code",
   "execution_count": 9,
   "metadata": {},
   "outputs": [
    {
     "name": "stdout",
     "output_type": "stream",
     "text": [
      "<class 'pandas.core.frame.DataFrame'>\n",
      "RangeIndex: 2000 entries, 0 to 1999\n",
      "Data columns (total 18 columns):\n",
      " #   Column                     Non-Null Count  Dtype  \n",
      "---  ------                     --------------  -----  \n",
      " 0   case_number                2000 non-null   int64  \n",
      " 1   status                     2000 non-null   object \n",
      " 2   case_request               2000 non-null   object \n",
      " 3   case_subrequest            2000 non-null   object \n",
      " 4   additional_subrequest      1999 non-null   object \n",
      " 5   date_time_opened           2000 non-null   object \n",
      " 6   date_time_closed           1979 non-null   object \n",
      " 7   case_origin                2000 non-null   object \n",
      " 8   state_issue                2000 non-null   object \n",
      " 9   closed_when_created        2000 non-null   object \n",
      " 10  incident_address           1525 non-null   object \n",
      " 11  incident_city              1466 non-null   object \n",
      " 12  incident_council_district  1466 non-null   float64\n",
      " 13  incident_zip_code          1466 non-null   float64\n",
      " 14  latitude                   1525 non-null   float64\n",
      " 15  longitude                  1525 non-null   float64\n",
      " 16  mapped_location            1525 non-null   object \n",
      " 17  contact_type               7 non-null      object \n",
      "dtypes: float64(4), int64(1), object(13)\n",
      "memory usage: 281.4+ KB\n"
     ]
    }
   ],
   "source": [
    "violation.info()"
   ]
  },
  {
   "cell_type": "code",
   "execution_count": 10,
   "metadata": {},
   "outputs": [],
   "source": [
    "violation['date']=violation['date_time_opened'].str.replace('T', ' ')"
   ]
  },
  {
   "cell_type": "code",
   "execution_count": 12,
   "metadata": {},
   "outputs": [],
   "source": [
    "violation['DateTime'] = pd.to_datetime(violation['date'])"
   ]
  },
  {
   "cell_type": "code",
   "execution_count": 13,
   "metadata": {},
   "outputs": [],
   "source": [
    "violation['monthday'] = violation['DateTime'].dt.strftime('%m-%d')"
   ]
  },
  {
   "cell_type": "code",
   "execution_count": 14,
   "metadata": {},
   "outputs": [
    {
     "data": {
      "text/plain": [
       "Text(0.5, 0, 'month and day')"
      ]
     },
     "execution_count": 14,
     "metadata": {},
     "output_type": "execute_result"
    },
    {
     "data": {
      "image/png": "[encoded data removed]",
      "text/plain": [
       "<Figure size 720x720 with 1 Axes>"
      ]
     },
     "metadata": {
      "needs_background": "light"
     },
     "output_type": "display_data"
    }
   ],
   "source": [
    "ax= violation.groupby('monthday')['case_request'].value_counts().plot(rot=45, figsize=(10, 10))\n",
    "ax.set_xticklabels(violation['monthday'])\n",
    "ax.set_xlabel(\"month and day\")\n"
   ]
  },
  {
   "cell_type": "code",
   "execution_count": 18,
   "metadata": {},
   "outputs": [
    {
     "data": {
      "text/plain": [
       "Text(0.5, 17.199999999999992, 'Incident city')"
      ]
     },
     "execution_count": 18,
     "metadata": {},
     "output_type": "execute_result"
    },
    {
     "data": {
      "image/png": "[encoded data removed]",
      "text/plain": [
       "<Figure size 720x720 with 1 Axes>"
      ]
     },
     "metadata": {
      "needs_background": "light"
     },
     "output_type": "display_data"
    }
   ],
   "source": [
    "violation.groupby('incident_city')['case_request'].value_counts().plot.barh(figsize=(10,10))\n",
    "ax.set_xticklabels(violation['incident_city'])\n",
    "ax.set_xlabel(\"Incident city\")\n"
   ]
  },
  {
   "cell_type": "code",
   "execution_count": null,
   "metadata": {},
   "outputs": [],
   "source": []
  }
 ],
 "metadata": {
  "kernelspec": {
   "display_name": "Python 3",
   "language": "python",
   "name": "python3"
  },
  "language_info": {
   "codemirror_mode": {
    "name": "ipython",
    "version": 3
   },
   "file_extension": ".py",
   "mimetype": "text/x-python",
   "name": "python",
   "nbconvert_exporter": "python",
   "pygments_lexer": "ipython3",
   "version": "3.8.3"
  }
 },
 "nbformat": 4,
 "nbformat_minor": 4
}
